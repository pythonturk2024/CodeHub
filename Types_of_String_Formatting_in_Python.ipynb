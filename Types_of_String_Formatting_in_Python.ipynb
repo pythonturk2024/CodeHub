{
 "cells": [
  {
   "cell_type": "markdown",
   "id": "74b1877c-0604-4295-9291-59d0c20cb11b",
   "metadata": {},
   "source": [
    "# Types of String Formatting in Python"
   ]
  },
  {
   "cell_type": "markdown",
   "id": "d1a1c4cb-80a2-40c6-a554-9f1a25abcf05",
   "metadata": {},
   "source": [
    "String formatting is a technique in Python used to organize and customize text (string) values in a specific format. Python offers different methods for string formatting, but the most commonly used ones are:"
   ]
  },
  {
   "cell_type": "markdown",
   "id": "82baff8e-73a8-429a-ba51-e3bab1febb43",
   "metadata": {},
   "source": [
    "- #### Using the format() Method (New Style)\n",
    "- #### Using f-Strings (Python 3.6 and Later)\n",
    "- #### Using the % Operator (Old Style)"
   ]
  },
  {
   "cell_type": "markdown",
   "id": "a6adba59-5aa8-48ef-9c74-b4fa88ff99c4",
   "metadata": {},
   "source": [
    "## 1. Formatting with format() string method"
   ]
  },
  {
   "cell_type": "markdown",
   "id": "451617b0-b349-403e-ba09-33eb72ab8896",
   "metadata": {},
   "source": [
    "The format() method allows you to format a string by using placeholders represented by {}. You can then assign values to these placeholders."
   ]
  },
  {
   "cell_type": "code",
   "execution_count": 20,
   "id": "553ebde3-3bb3-4307-a501-8061d700ae6a",
   "metadata": {
    "tags": []
   },
   "outputs": [
    {
     "name": "stdout",
     "output_type": "stream",
     "text": [
      "Hello, my name is John, I am 30 years old, and I work as a Engineer.\n"
     ]
    }
   ],
   "source": [
    "name = \"John\"\n",
    "age = 30\n",
    "occupation = \"Engineer\"\n",
    "\n",
    "message = \"Hello, my name is {}, I am {} years old, and I work as a {}.\".format(name, age, occupation)\n",
    "\n",
    "print(message)\n"
   ]
  },
  {
   "cell_type": "markdown",
   "id": "23c42a70-a6cf-4ee3-a9d7-488437eaa7ac",
   "metadata": {},
   "source": [
    "**You can also use positional placeholders like this:**"
   ]
  },
  {
   "cell_type": "code",
   "execution_count": 21,
   "id": "9f2f5071-c0a6-4675-8c49-515ceb99636c",
   "metadata": {
    "tags": []
   },
   "outputs": [
    {
     "name": "stdout",
     "output_type": "stream",
     "text": [
      "Hello, my name is John, I am 30 years old, and I work as a Engineer.\n"
     ]
    }
   ],
   "source": [
    "message = \"Hello, my name is {0}, I am {1} years old, and I work as a {2}.\".format(name, age, occupation)\n",
    "\n",
    "print(message)"
   ]
  },
  {
   "cell_type": "code",
   "execution_count": 12,
   "id": "8bf88687-7fee-4c67-8014-eef05dc0b522",
   "metadata": {
    "tags": []
   },
   "outputs": [
    {
     "name": "stdout",
     "output_type": "stream",
     "text": [
      "Product price: $29.99, discounted price: $25.49\n"
     ]
    }
   ],
   "source": [
    "price = 29.99\n",
    "discount = 0.15\n",
    "final_price = price - (price * discount)\n",
    "message = \"Product price: ${:.2f}, discounted price: ${:.2f}\".format(price, final_price)\n",
    "print(message)"
   ]
  },
  {
   "cell_type": "markdown",
   "id": "1ab00e58-b5e0-4db0-8684-1088cdc3dc2a",
   "metadata": {
    "tags": []
   },
   "source": [
    "## 2. Using f-Strings (Available in Python 3.6 and Later)"
   ]
  },
  {
   "cell_type": "markdown",
   "id": "638f1a8b-3fd0-4be8-abf0-9b3567cfefa1",
   "metadata": {},
   "source": [
    "F-strings are a more readable and straightforward way to format strings."
   ]
  },
  {
   "cell_type": "code",
   "execution_count": 22,
   "id": "e8107e56-b923-4934-8e89-3b90c48ba8e1",
   "metadata": {
    "tags": []
   },
   "outputs": [
    {
     "name": "stdout",
     "output_type": "stream",
     "text": [
      "Hello, my name is John, I am 30 years old, and I work as a Engineer.\n"
     ]
    }
   ],
   "source": [
    "name = \"John\"\n",
    "age = 30\n",
    "occupation = \"Engineer\"\n",
    "\n",
    "message = f\"Hello, my name is {name}, I am {age} years old, and I work as a {occupation}.\"\n",
    "\n",
    "print(message)"
   ]
  },
  {
   "cell_type": "markdown",
   "id": "3b47f77e-361c-420e-9de8-381c85295fb6",
   "metadata": {
    "tags": []
   },
   "source": [
    "**You can also format numbers using f-strings like this:**"
   ]
  },
  {
   "cell_type": "code",
   "execution_count": 23,
   "id": "66c5afc7-d9ce-4cd5-98b3-e4f23882170e",
   "metadata": {
    "tags": []
   },
   "outputs": [
    {
     "name": "stdout",
     "output_type": "stream",
     "text": [
      "Product price: $29.99, discounted price: $25.49\n"
     ]
    }
   ],
   "source": [
    "price = 29.99\n",
    "discount = 0.15\n",
    "final_price = price - (price * discount)\n",
    "\n",
    "message = f\"Product price: ${price:.2f}, discounted price: ${final_price:.2f}\"\n",
    "\n",
    "print(message)"
   ]
  },
  {
   "cell_type": "markdown",
   "id": "c6b61ab2-4212-41bf-947c-da445fa4b00b",
   "metadata": {},
   "source": [
    "## 3. Using the % Operator (Not Recommended)"
   ]
  },
  {
   "cell_type": "markdown",
   "id": "3e2fc8b3-773b-4c77-ae74-2bde3eb4b33e",
   "metadata": {},
   "source": [
    "This is an outdated formatting method and is generally not recommended for use. It replaces specific placeholders in a string with the % operator."
   ]
  },
  {
   "cell_type": "code",
   "execution_count": 25,
   "id": "9a5deb20-438c-43c5-b3e7-e31d1a0c4e22",
   "metadata": {
    "tags": []
   },
   "outputs": [
    {
     "name": "stdout",
     "output_type": "stream",
     "text": [
      "Hello, my name is John, I am 30 years old, and I work as a Engineer.\n"
     ]
    }
   ],
   "source": [
    "name = \"John\"\n",
    "age = 30\n",
    "occupation = \"Engineer\"\n",
    "\n",
    "message = \"Hello, my name is %s, I am %d years old, and I work as a %s.\" % (name, age, occupation)\n",
    "\n",
    "print(message)\n"
   ]
  },
  {
   "cell_type": "markdown",
   "id": "658e4550-3381-43e0-929e-6654f730fcb0",
   "metadata": {},
   "source": [
    "**The output will be similar to this:**"
   ]
  },
  {
   "cell_type": "code",
   "execution_count": 26,
   "id": "2cca8b59-a76d-4740-92f3-674fb7e273ad",
   "metadata": {
    "tags": []
   },
   "outputs": [
    {
     "name": "stdout",
     "output_type": "stream",
     "text": [
      "Product price: $29.99, discounted price: $25.49\n"
     ]
    }
   ],
   "source": [
    "price = 29.99\n",
    "discount = 0.15\n",
    "final_price = price - (price * discount)\n",
    "\n",
    "message = \"Product price: $%.2f, discounted price: $%.2f\" % (price, final_price)\n",
    "\n",
    "print(message)\n"
   ]
  }
 ],
 "metadata": {
  "kernelspec": {
   "display_name": "Python 3 (ipykernel)",
   "language": "python",
   "name": "python3"
  },
  "language_info": {
   "codemirror_mode": {
    "name": "ipython",
    "version": 3
   },
   "file_extension": ".py",
   "mimetype": "text/x-python",
   "name": "python",
   "nbconvert_exporter": "python",
   "pygments_lexer": "ipython3",
   "version": "3.8.16"
  }
 },
 "nbformat": 4,
 "nbformat_minor": 5
}
