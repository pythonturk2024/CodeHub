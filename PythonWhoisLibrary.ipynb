{
 "cells": [
  {
   "cell_type": "markdown",
   "id": "a5be2c63-d96e-4bd7-9947-f309bf2055a7",
   "metadata": {
    "tags": []
   },
   "source": [
    "# Getting domain information with Python-Whois library"
   ]
  },
  {
   "cell_type": "markdown",
   "id": "e64ae240-5910-4a0e-9375-b0e3ce4df175",
   "metadata": {},
   "source": [
    "Python-Whois is a Python library used to query and retrieve domain information with Python programs. This library allows you to access information about domains using the WHOIS protocol."
   ]
  },
  {
   "cell_type": "markdown",
   "id": "866de31e-13c6-4490-b11c-cb9c7ae351b7",
   "metadata": {},
   "source": [
    "### First, install the whois library."
   ]
  },
  {
   "cell_type": "code",
   "execution_count": null,
   "id": "3fecc147-144f-40b2-b49b-d2158bb025da",
   "metadata": {
    "tags": []
   },
   "outputs": [],
   "source": [
    "!pip install python-whois"
   ]
  },
  {
   "cell_type": "markdown",
   "id": "d21bc089-0752-4861-9534-eed23b880bb4",
   "metadata": {},
   "source": [
    "### After installing the library, you can query domain information with a Python script like this:"
   ]
  },
  {
   "cell_type": "code",
   "execution_count": null,
   "id": "68485c9d-6d80-4db2-9698-8766f2ff2bd4",
   "metadata": {
    "tags": []
   },
   "outputs": [],
   "source": [
    "import whois\n",
    "\n",
    "domain_name = \"pythonturk.com\"\n",
    "domain_info = whois.whois(domain_name)\n",
    "\n",
    "# Print all information\n",
    "print(\"Domain Information:\")\n",
    "for key, value in domain_info.items():\n",
    "    print(f\"{key}: {value}\")\n"
   ]
  }
 ],
 "metadata": {
  "kernelspec": {
   "display_name": "Python 3 (ipykernel)",
   "language": "python",
   "name": "python3"
  },
  "language_info": {
   "codemirror_mode": {
    "name": "ipython",
    "version": 3
   },
   "file_extension": ".py",
   "mimetype": "text/x-python",
   "name": "python",
   "nbconvert_exporter": "python",
   "pygments_lexer": "ipython3",
   "version": "3.8.16"
  }
 },
 "nbformat": 4,
 "nbformat_minor": 5
}
