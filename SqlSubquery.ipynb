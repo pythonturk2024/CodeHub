{
 "cells": [
  {
   "cell_type": "markdown",
   "id": "c2e2793e-2f4b-4034-9ec3-6b3d475a4698",
   "metadata": {
    "tags": []
   },
   "source": [
    "# What is Sql Subquery?"
   ]
  },
  {
   "cell_type": "markdown",
   "id": "476d3673-6a81-44cd-a2be-5a50c91dd267",
   "metadata": {},
   "source": [
    "An SQL subquery is a query part within an SQL query that returns or contains the result of another query. "
   ]
  },
  {
   "cell_type": "markdown",
   "id": "1ff06bab-c67d-4165-80e8-6aa7e5ccff15",
   "metadata": {},
   "source": [
    "**Subqueries can be of two main types:**"
   ]
  },
  {
   "cell_type": "markdown",
   "id": "b06d4ce4-44f5-4ced-8835-ce214c4a8a4a",
   "metadata": {
    "tags": []
   },
   "source": [
    "**Not :** Sample database at the bottom of the article"
   ]
  },
  {
   "cell_type": "markdown",
   "id": "b3e3cf12-8e8a-4831-b522-b8587494815c",
   "metadata": {},
   "source": [
    "### 1. Scalar Subquery:"
   ]
  },
  {
   "cell_type": "markdown",
   "id": "fe7e3d8e-143b-4dc1-8d9f-0874e4691117",
   "metadata": {},
   "source": [
    "Scalar subqueries are queries that return only a single value (for example, a number, a text, or a date). Typically, such queries are created using a subquery within the SELECT statement."
   ]
  },
  {
   "cell_type": "code",
   "execution_count": null,
   "id": "4816614d-edf1-4965-8bdf-ac61833faacc",
   "metadata": {},
   "outputs": [],
   "source": [
    "-- Lists each customers highest order amount\n",
    "SELECT customer_name, (\n",
    "  SELECT MAX(total_amount)\n",
    "  FROM orders\n",
    "  WHERE customer_id = customers.customer_id\n",
    ") AS max_order_amount\n",
    "FROM customers;"
   ]
  },
  {
   "cell_type": "markdown",
   "id": "a4b80434-3a9b-495b-966e-c904109a62ee",
   "metadata": {},
   "source": [
    "### 2. Table Subquery: "
   ]
  },
  {
   "cell_type": "markdown",
   "id": "a60746c5-059b-42fb-8893-c94fa632a8bf",
   "metadata": {},
   "source": [
    "Table subqueries are queries that return a table or a table-like result set. Such subqueries can be used in places like FROM or WHERE."
   ]
  },
  {
   "cell_type": "code",
   "execution_count": null,
   "id": "6aadd22d-b3a7-4352-85d2-ef627151c76d",
   "metadata": {},
   "outputs": [],
   "source": [
    "-- Lists the products included in a customer's orders\n",
    "SELECT *\n",
    "FROM products\n",
    "WHERE product_id IN (\n",
    "  SELECT product_id\n",
    "  FROM orders\n",
    "  WHERE customer_id = 1\n",
    ");"
   ]
  },
  {
   "cell_type": "markdown",
   "id": "8e12c39d-402c-46fe-bc65-55f1fe620627",
   "metadata": {},
   "source": [
    "SQL subqueries make database queries more readable and understandable, while also helping you create more powerful and flexible queries. Using subqueries, you can filter, group, aggregate data, and perform more complex operations."
   ]
  },
  {
   "cell_type": "markdown",
   "id": "75f0f7d1-3d2f-411e-b0b1-33c9ba62cbb8",
   "metadata": {
    "tags": []
   },
   "source": [
    "## For Examples"
   ]
  },
  {
   "cell_type": "markdown",
   "id": "74eafab0-37f1-48a4-8dc1-0e3d7b525540",
   "metadata": {},
   "source": [
    "### 1. Basic Operations:"
   ]
  },
  {
   "cell_type": "markdown",
   "id": "f2dc446f-aad0-4aea-a521-965801719536",
   "metadata": {},
   "source": [
    "#### **- Finding the Highest Value:**"
   ]
  },
  {
   "cell_type": "code",
   "execution_count": null,
   "id": "e8e72d07-1192-4c63-98fe-53cfb3e259e7",
   "metadata": {},
   "outputs": [],
   "source": [
    "-- Lists each customer's highest order amount\n",
    "SELECT customer_name, (\n",
    "  SELECT MAX(total_amount)\n",
    "  FROM orders\n",
    "  WHERE customer_id = customers.customer_id\n",
    ") AS max_order_amount\n",
    "FROM customers;"
   ]
  },
  {
   "cell_type": "markdown",
   "id": "56030d3d-2d83-4409-bc59-1afcef1cbf0e",
   "metadata": {},
   "source": [
    "#### - **Finding the Latest Date:**"
   ]
  },
  {
   "cell_type": "code",
   "execution_count": null,
   "id": "94fe9223-225e-450f-9900-3fcaf1fd141c",
   "metadata": {},
   "outputs": [],
   "source": [
    "-- Lists each customer's last order date\n",
    "SELECT customer_name, (\n",
    "  SELECT MAX(order_date)\n",
    "  FROM orders\n",
    "  WHERE customer_id = customers.customer_id\n",
    ") AS last_order_date\n",
    "FROM customers;"
   ]
  },
  {
   "cell_type": "markdown",
   "id": "7f23d1c4-9442-4f02-b0bf-cc65636c4f55",
   "metadata": {
    "tags": []
   },
   "source": [
    "### 2. Filtering:"
   ]
  },
  {
   "cell_type": "markdown",
   "id": "86c4b04d-45ce-4e29-a509-f849fa540eeb",
   "metadata": {
    "tags": []
   },
   "source": [
    "#### **- Listing Orders After a Specific Date:**"
   ]
  },
  {
   "cell_type": "code",
   "execution_count": null,
   "id": "748a2bd3-b34d-4635-8953-30e79280d0b4",
   "metadata": {},
   "outputs": [],
   "source": [
    "-- Listing orders after a certain date\n",
    "SELECT order_id, customer_id, order_date\n",
    "FROM orders\n",
    "WHERE order_date > (\n",
    "  SELECT MAX(order_date)\n",
    "  FROM orders\n",
    ");"
   ]
  },
  {
   "cell_type": "markdown",
   "id": "e550ff76-da1d-4a1e-944e-b06dda460471",
   "metadata": {},
   "source": [
    "#### **- Listing Products in Stock:**"
   ]
  },
  {
   "cell_type": "code",
   "execution_count": null,
   "id": "9f1122db-65f9-429d-b566-f4a0a65ed925",
   "metadata": {},
   "outputs": [],
   "source": [
    "-- Lists products in stock\n",
    "SELECT product_name, stock_quantity\n",
    "FROM products\n",
    "WHERE stock_quantity > 0;"
   ]
  },
  {
   "cell_type": "markdown",
   "id": "540a883b-92c8-43b2-a3c1-3f86c6352b9a",
   "metadata": {},
   "source": [
    "### 3. Joining Two Tables:"
   ]
  },
  {
   "cell_type": "markdown",
   "id": "af7f950a-d100-4b7e-801e-1647b508b856",
   "metadata": {},
   "source": [
    "#### **- List Details of Orders Made by a Customer:**"
   ]
  },
  {
   "cell_type": "code",
   "execution_count": null,
   "id": "0d1d27d2-d489-4043-b977-8010120b8fa6",
   "metadata": {},
   "outputs": [],
   "source": [
    "-- List of details of orders made by a customer\n",
    "SELECT orders.order_id, products.product_name, orders.total_amount\n",
    "FROM orders\n",
    "INNER JOIN products ON orders.product_id = products.product_id\n",
    "WHERE orders.customer_id = (\n",
    "  SELECT customer_id\n",
    "  FROM customers\n",
    "  WHERE customer_name = 'Alice'\n",
    ");"
   ]
  },
  {
   "cell_type": "markdown",
   "id": "873449a4-4c78-4945-b3aa-ccaa69e7376d",
   "metadata": {
    "tags": []
   },
   "source": [
    "### 4. Aggregation Processes:"
   ]
  },
  {
   "cell_type": "markdown",
   "id": "dfbc3fee-2f08-4317-9715-34d6c75114ff",
   "metadata": {},
   "source": [
    "#### **- Customers' Total Number of Orders and Average Amount:**"
   ]
  },
  {
   "cell_type": "code",
   "execution_count": null,
   "id": "e02998ff-9b22-462d-8cd4-7e1c535e28d3",
   "metadata": {},
   "outputs": [],
   "source": [
    "-- List each customer's name, total number of orders, and average amount of orders\n",
    "SELECT customer_name, (\n",
    "  SELECT COUNT(*)\n",
    "  FROM orders\n",
    "  WHERE customer_id = customers.customer_id\n",
    ") AS order_count, (\n",
    "  SELECT AVG(total_amount)\n",
    "  FROM orders\n",
    "  WHERE customer_id = customers.customer_id\n",
    ") AS average_amount\n",
    "FROM customers;"
   ]
  },
  {
   "cell_type": "markdown",
   "id": "f04e167c-efe9-4900-9da6-3291de570b30",
   "metadata": {
    "tags": []
   },
   "source": [
    "#### **- Finding the Customer Who Orders the Most:**"
   ]
  },
  {
   "cell_type": "code",
   "execution_count": null,
   "id": "929c37f4-766b-4b60-b5d8-6da195de0316",
   "metadata": {},
   "outputs": [],
   "source": [
    "-- List of customers who place the most orders\n",
    "SELECT customer_name\n",
    "FROM customers\n",
    "WHERE customer_id = (\n",
    "  SELECT customer_id\n",
    "  FROM orders\n",
    "  GROUP BY customer_id\n",
    "  ORDER BY COUNT(*) DESC\n",
    "  LIMIT 1\n",
    ");"
   ]
  },
  {
   "cell_type": "markdown",
   "id": "8db8c709-45c3-449b-a74c-6a5fa3eac3d9",
   "metadata": {},
   "source": [
    "### 5. EXISTS and NOT EXISTS:"
   ]
  },
  {
   "cell_type": "markdown",
   "id": "4b84516b-b298-4594-b5e8-5ecde66bbcf9",
   "metadata": {},
   "source": [
    "EXISTS and NOT EXISTS are used to filter data that meets or does not meet certain conditions using subqueries"
   ]
  },
  {
   "cell_type": "markdown",
   "id": "a5b06501-b734-4a04-88a9-6bf3a93cc0ce",
   "metadata": {},
   "source": [
    "#### **- Listing Customers Who Placed At Least One Order (EXISTS):**"
   ]
  },
  {
   "cell_type": "code",
   "execution_count": null,
   "id": "f03c09af-6128-45ca-a4a2-f4badb6e1696",
   "metadata": {},
   "outputs": [],
   "source": [
    "-- List of customers who placed at least one order\n",
    "SELECT customer_name\n",
    "FROM customers\n",
    "WHERE EXISTS (\n",
    "  SELECT 1\n",
    "  FROM orders\n",
    "  WHERE customer_id = customers.customer_id\n",
    ");"
   ]
  },
  {
   "cell_type": "markdown",
   "id": "8c4b9ede-59d3-4517-9a80-5ada8e3844fd",
   "metadata": {
    "tags": []
   },
   "source": [
    "#### **- Listing Customers Who Never Ordered (NOT EXISTS):**"
   ]
  },
  {
   "cell_type": "code",
   "execution_count": null,
   "id": "52d078ba-3cca-4ef7-b1e7-1363276d1266",
   "metadata": {},
   "outputs": [],
   "source": [
    "-- List of customers who have never placed an order\n",
    "SELECT customer_name\n",
    "FROM customers\n",
    "WHERE NOT EXISTS (\n",
    "  SELECT 1\n",
    "  FROM orders\n",
    "  WHERE customer_id = customers.customer_id\n",
    ");"
   ]
  },
  {
   "cell_type": "markdown",
   "id": "9db4ba11-ba8e-4b17-806b-73a3f655a6f3",
   "metadata": {},
   "source": [
    "### 6. IN and NOT IN:"
   ]
  },
  {
   "cell_type": "markdown",
   "id": "88d97a2a-87d2-4a51-8537-d7951cddfbe4",
   "metadata": {},
   "source": [
    "IN and NOT IN are used to filter data that may or may not have certain values ​​using subqueries."
   ]
  },
  {
   "cell_type": "markdown",
   "id": "d8763085-b7c1-4e65-9dc2-b2ab778489f2",
   "metadata": {},
   "source": [
    "#### **- List Customers Who Purchased a Specific Product (IN):**"
   ]
  },
  {
   "cell_type": "code",
   "execution_count": null,
   "id": "6bba6c6f-4ed3-4b43-813b-4ff9fe7ec10d",
   "metadata": {},
   "outputs": [],
   "source": [
    "-- List of customers who purchased the product 'Laptop'\n",
    "SELECT customer_name\n",
    "FROM customers\n",
    "WHERE customer_id IN (\n",
    "  SELECT customer_id\n",
    "  FROM orders\n",
    "  WHERE product_id = (\n",
    "    SELECT product_id\n",
    "    FROM products\n",
    "    WHERE product_name = 'Laptop'\n",
    "  )\n",
    ");"
   ]
  },
  {
   "cell_type": "markdown",
   "id": "248c3cec-8d91-4a25-a042-245ebb2c86d8",
   "metadata": {},
   "source": [
    "#### **- ist Customers Who Didn't Buy a Specific Product (NOT IN):**"
   ]
  },
  {
   "cell_type": "code",
   "execution_count": null,
   "id": "8aa997be-f815-41e0-9940-8e1f20d22309",
   "metadata": {
    "tags": []
   },
   "outputs": [],
   "source": [
    "-- List of customers who did not purchase the 'Laptop' product\n",
    "SELECT customer_name\n",
    "FROM customers\n",
    "WHERE customer_id NOT IN (\n",
    "  SELECT customer_id\n",
    "  FROM orders\n",
    "  WHERE product_id = (\n",
    "    SELECT product_id\n",
    "    FROM products\n",
    "    WHERE product_name = 'Laptop'\n",
    "  )\n",
    ");"
   ]
  },
  {
   "cell_type": "markdown",
   "id": "3d3e7228-2021-4ea8-b969-eeb574e9889e",
   "metadata": {
    "tags": []
   },
   "source": [
    "### 7. Comparing Subquery Results with Subquery:"
   ]
  },
  {
   "cell_type": "markdown",
   "id": "11052061-096d-4022-b568-a15c5947c5d2",
   "metadata": {},
   "source": [
    "#### **- Finding the Customer with the Highest Order Amount:**"
   ]
  },
  {
   "cell_type": "code",
   "execution_count": null,
   "id": "52444ddf-f8cd-42d1-b7a1-2ab56f33dd40",
   "metadata": {},
   "outputs": [],
   "source": [
    "-- List of customers with the highest order amount\n",
    "SELECT customer_name\n",
    "FROM customers\n",
    "WHERE (\n",
    "  SELECT MAX(total_amount)\n",
    "  FROM orders\n",
    "  WHERE customer_id = customers.customer_id\n",
    ") = (\n",
    "  SELECT MAX(total_amount)\n",
    "  FROM orders\n",
    ");\n"
   ]
  },
  {
   "cell_type": "markdown",
   "id": "15ec4175-9c59-48ab-85a6-c1626d25d479",
   "metadata": {},
   "source": [
    "#### **- List Customers Who Order Above Average:**"
   ]
  },
  {
   "cell_type": "code",
   "execution_count": null,
   "id": "c9476673-1604-43bd-900b-2d6b69fc4517",
   "metadata": {
    "tags": []
   },
   "outputs": [],
   "source": [
    "-- List of customers whose orders are above average\n",
    "SELECT customer_name\n",
    "FROM customers\n",
    "WHERE (\n",
    "  SELECT AVG(total_amount)\n",
    "  FROM orders\n",
    "  WHERE customer_id = customers.customer_id\n",
    ") > (\n",
    "  SELECT AVG(total_amount)\n",
    "  FROM orders\n",
    ");"
   ]
  },
  {
   "cell_type": "markdown",
   "id": "77bc7a35-f6a4-4407-80b3-f1f948736ce6",
   "metadata": {},
   "source": [
    "These examples show how you can use subqueries in SQL to use data to create more complex queries and access more specific results."
   ]
  },
  {
   "cell_type": "markdown",
   "id": "6de04dec-22d8-4b3b-b3cb-5df4bb8e9308",
   "metadata": {},
   "source": [
    "## MySQL sample database <a id=\"MySQL_sample_database\"></a>"
   ]
  },
  {
   "cell_type": "code",
   "execution_count": null,
   "id": "42d332eb-5dbb-4f2a-9083-511da2c3fe56",
   "metadata": {},
   "outputs": [],
   "source": [
    "--\n",
    "--  `customers`\n",
    "--\n",
    "\n",
    "CREATE TABLE `customers` (\n",
    "  `customer_id` int(11) NOT NULL,\n",
    "  `customer_name` varchar(50) DEFAULT NULL,\n",
    "  `customer_email` varchar(100) DEFAULT NULL,\n",
    "  `customer_age` int(11) DEFAULT NULL\n",
    ") ENGINE=InnoDB DEFAULT CHARSET=utf8;\n",
    "\n",
    "--\n",
    "-- `customers`\n",
    "--\n",
    "\n",
    "INSERT INTO `customers` (`customer_id`, `customer_name`, `customer_email`, `customer_age`) VALUES\n",
    "(1, 'Alice', 'alice@example.com', 28),\n",
    "(2, 'Bob', 'bob@example.com', 32),\n",
    "(3, 'Charlie', 'charlie@example.com', 24),\n",
    "(4, 'David', 'david@example.com', 29),\n",
    "(5, 'Emily', 'emily@example.com', 26),\n",
    "(6, 'Frank', 'frank@example.com', 35),\n",
    "(7, 'Grace', 'grace@example.com', 31),\n",
    "(8, 'Helen', 'helen@example.com', 27),\n",
    "(9, 'Ivan', 'ivan@example.com', 30),\n",
    "(10, 'Jane', 'jane@example.com', 33),\n",
    "(11, 'Kevin', 'kevin@example.com', 22),\n",
    "(12, 'Laura', 'laura@example.com', 25),\n",
    "(13, 'Mike', 'mike@example.com', 36),\n",
    "(14, 'Nancy', 'nancy@example.com', 29),\n",
    "(15, 'Oscar', 'oscar@example.com', 34),\n",
    "(16, 'Pam', 'pam@example.com', 30),\n",
    "(17, 'Quinn', 'quinn@example.com', 28),\n",
    "(18, 'Roger', 'roger@example.com', 31),\n",
    "(19, 'Sarah', 'sarah@example.com', 27),\n",
    "(20, 'Tom', 'tom@example.com', 32);\n",
    "\n",
    "-- --------------------------------------------------------\n",
    "\n",
    "--\n",
    "-- `orders`\n",
    "--\n",
    "\n",
    "CREATE TABLE `orders` (\n",
    "  `order_id` int(11) NOT NULL,\n",
    "  `customer_id` int(11) DEFAULT NULL,\n",
    "  `product_id` int(11) DEFAULT NULL,\n",
    "  `order_date` date DEFAULT NULL,\n",
    "  `total_amount` decimal(10,2) DEFAULT NULL\n",
    ") ENGINE=InnoDB DEFAULT CHARSET=utf8;\n",
    "\n",
    "--\n",
    "-- `orders`\n",
    "--\n",
    "\n",
    "INSERT INTO `orders` (`order_id`, `customer_id`, `product_id`, `order_date`, `total_amount`) VALUES\n",
    "(1, 1, 2, '2023-09-25', '499.99'),\n",
    "(2, 3, 6, '2023-09-25', '149.99'),\n",
    "(3, 5, 8, '2023-09-24', '29.99'),\n",
    "(4, 7, 3, '2023-09-24', '299.99'),\n",
    "(5, 9, 10, '2023-09-23', '119.99'),\n",
    "(6, 2, 7, '2023-09-23', '69.99'),\n",
    "(7, 4, 5, '2023-09-22', '199.99'),\n",
    "(8, 6, 1, '2023-09-22', '999.99'),\n",
    "(9, 8, 4, '2023-09-21', '799.99'),\n",
    "(10, 10, 9, '2023-09-21', '14.99'),\n",
    "(11, 11, 1, '2023-09-20', '999.99'),\n",
    "(12, 13, 3, '2023-09-20', '299.99'),\n",
    "(13, 15, 6, '2023-09-19', '149.99'),\n",
    "(14, 9, 7, '2023-09-19', '69.99'),\n",
    "(15, 19, 10, '2023-09-18', '119.99'),\n",
    "(16, 12, 2, '2023-09-18', '499.99'),\n",
    "(17, 14, 4, '2023-09-17', '799.99'),\n",
    "(18, 15, 5, '2023-09-17', '199.99'),\n",
    "(19, 18, 8, '2023-09-16', '29.99'),\n",
    "(20, 20, 9, '2023-09-16', '14.99'),\n",
    "(21, 1, 1, '2023-09-15', '999.99'),\n",
    "(22, 3, 3, '2023-09-15', '299.99'),\n",
    "(23, 5, 5, '2023-09-14', '199.99'),\n",
    "(24, 7, 7, '2023-09-14', '69.99'),\n",
    "(25, 9, 9, '2023-09-13', '14.99'),\n",
    "(26, 2, 2, '2023-09-13', '499.99'),\n",
    "(27, 4, 4, '2023-09-12', '799.99'),\n",
    "(28, 6, 6, '2023-09-12', '149.99'),\n",
    "(29, 8, 8, '2023-09-11', '29.99'),\n",
    "(30, 10, 10, '2023-09-11', '119.99'),\n",
    "(31, 11, 2, '2023-09-10', '499.99'),\n",
    "(32, 13, 4, '2023-09-10', '799.99'),\n",
    "(33, 15, 6, '2023-09-09', '149.99'),\n",
    "(34, 12, 8, '2023-09-09', '29.99'),\n",
    "(35, 19, 10, '2023-09-08', '119.99'),\n",
    "(36, 12, 1, '2023-09-08', '999.99'),\n",
    "(37, 14, 3, '2023-09-07', '299.99'),\n",
    "(38, 16, 5, '2023-09-07', '199.99'),\n",
    "(39, 18, 7, '2023-09-06', '69.99'),\n",
    "(40, 20, 9, '2023-09-06', '14.99'),\n",
    "(41, 1, 10, '2023-09-05', '119.99'),\n",
    "(42, 3, 2, '2023-09-05', '499.99'),\n",
    "(43, 5, 4, '2023-09-04', '799.99'),\n",
    "(44, 7, 6, '2023-09-04', '149.99'),\n",
    "(45, 9, 8, '2023-09-03', '29.99'),\n",
    "(46, 2, 10, '2023-09-03', '119.99'),\n",
    "(47, 4, 1, '2023-09-02', '999.99'),\n",
    "(48, 6, 3, '2023-09-02', '299.99'),\n",
    "(49, 8, 5, '2023-09-01', '199.99'),\n",
    "(50, 10, 7, '2023-09-01', '69.99'),\n",
    "(51, 11, 9, '2023-08-31', '14.99'),\n",
    "(52, 13, 2, '2023-08-31', '499.99'),\n",
    "(53, 15, 4, '2023-08-30', '799.99'),\n",
    "(54, 19, 6, '2023-08-30', '149.99'),\n",
    "(55, 19, 8, '2023-08-29', '29.99'),\n",
    "(56, 12, 10, '2023-08-29', '119.99'),\n",
    "(57, 14, 1, '2023-08-28', '999.99'),\n",
    "(58, 16, 3, '2023-08-28', '299.99'),\n",
    "(59, 18, 5, '2023-08-27', '199.99'),\n",
    "(60, 20, 7, '2023-08-27', '69.99'),\n",
    "(61, 1, 9, '2023-08-26', '14.99'),\n",
    "(62, 3, 2, '2023-08-26', '499.99'),\n",
    "(63, 5, 4, '2023-08-25', '799.99'),\n",
    "(64, 7, 6, '2023-08-25', '149.99'),\n",
    "(65, 9, 8, '2023-08-24', '29.99'),\n",
    "(66, 2, 10, '2023-08-24', '119.99'),\n",
    "(67, 4, 1, '2023-08-23', '999.99'),\n",
    "(68, 6, 3, '2023-08-23', '299.99'),\n",
    "(69, 8, 5, '2023-08-22', '199.99'),\n",
    "(70, 10, 7, '2023-08-22', '69.99'),\n",
    "(71, 11, 9, '2023-08-21', '14.99'),\n",
    "(72, 13, 2, '2023-08-21', '499.99'),\n",
    "(73, 15, 4, '2023-08-20', '799.99'),\n",
    "(74, 15, 6, '2023-08-20', '149.99'),\n",
    "(75, 19, 8, '2023-08-19', '29.99'),\n",
    "(76, 12, 10, '2023-08-19', '119.99'),\n",
    "(77, 14, 1, '2023-08-18', '999.99'),\n",
    "(78, 16, 3, '2023-08-18', '299.99'),\n",
    "(79, 18, 5, '2023-08-17', '199.99'),\n",
    "(80, 20, 7, '2023-08-17', '69.99'),\n",
    "(81, 1, 9, '2023-08-16', '14.99'),\n",
    "(82, 3, 2, '2023-08-16', '499.99'),\n",
    "(83, 5, 4, '2023-08-15', '799.99'),\n",
    "(84, 7, 6, '2023-08-15', '149.99'),\n",
    "(85, 9, 8, '2023-08-14', '29.99'),\n",
    "(86, 2, 10, '2023-08-14', '119.99'),\n",
    "(87, 4, 1, '2023-08-13', '999.99'),\n",
    "(88, 6, 3, '2023-08-13', '299.99'),\n",
    "(89, 8, 5, '2023-08-12', '199.99'),\n",
    "(90, 10, 7, '2023-08-12', '69.99'),\n",
    "(91, 11, 9, '2023-08-11', '14.99'),\n",
    "(92, 13, 2, '2023-08-11', '499.99'),\n",
    "(93, 15, 4, '2023-08-10', '799.99'),\n",
    "(94, 20, 6, '2023-08-10', '149.99'),\n",
    "(95, 19, 8, '2023-08-09', '29.99'),\n",
    "(96, 12, 10, '2023-08-09', '119.99'),\n",
    "(97, 14, 1, '2023-08-08', '999.99'),\n",
    "(98, 16, 3, '2023-08-08', '299.99'),\n",
    "(99, 18, 5, '2023-08-07', '199.99'),\n",
    "(100, 20, 7, '2023-08-07', '69.99');\n",
    "\n",
    "-- --------------------------------------------------------\n",
    "\n",
    "--\n",
    "-- `products`\n",
    "--\n",
    "\n",
    "CREATE TABLE `products` (\n",
    "  `product_id` int(11) NOT NULL,\n",
    "  `product_name` varchar(50) DEFAULT NULL,\n",
    "  `unit_price` decimal(10,2) DEFAULT NULL,\n",
    "  `stock_quantity` int(11) DEFAULT NULL\n",
    ") ENGINE=InnoDB DEFAULT CHARSET=utf8;\n",
    "\n",
    "--\n",
    "-- `products`\n",
    "--\n",
    "\n",
    "INSERT INTO `products` (`product_id`, `product_name`, `unit_price`, `stock_quantity`) VALUES\n",
    "(1, 'Laptop', '999.99', 25),\n",
    "(2, 'Smartphone', '499.99', 50),\n",
    "(3, 'Tablet', '299.99', 30),\n",
    "(4, 'Desktop PC', '799.99', 20),\n",
    "(5, 'Monitor', '199.99', 40),\n",
    "(6, 'Printer', '149.99', 15),\n",
    "(7, 'Headphones', '69.99', 60),\n",
    "(8, 'Keyboard', '29.99', 75),\n",
    "(9, 'Mouse', '14.99', 100),\n",
    "(10, 'External Hard Drive', '119.99', 35);"
   ]
  }
 ],
 "metadata": {
  "kernelspec": {
   "display_name": "Python 3 (ipykernel)",
   "language": "python",
   "name": "python3"
  },
  "language_info": {
   "codemirror_mode": {
    "name": "ipython",
    "version": 3
   },
   "file_extension": ".py",
   "mimetype": "text/x-python",
   "name": "python",
   "nbconvert_exporter": "python",
   "pygments_lexer": "ipython3",
   "version": "3.8.16"
  }
 },
 "nbformat": 4,
 "nbformat_minor": 5
}
