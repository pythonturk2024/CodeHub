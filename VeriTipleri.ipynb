{
 "cells": [
  {
   "cell_type": "markdown",
   "id": "e9ae069a-1595-4b2e-a1e8-fb0628890411",
   "metadata": {},
   "source": [
    "# Python Programlama Dilinde Veri Tipleri"
   ]
  },
  {
   "cell_type": "markdown",
   "id": "4c61b041-e7f2-400d-84d2-133a6717c777",
   "metadata": {},
   "source": [
    "Veri tipleri, bir programın ne tür verileri işleyebileceğini, bu verileri nasıl saklayabileceğini ve üzerlerinde nasıl işlemler gerçekleştirebileceğini tanımlayan temel yapı taşlarıdır. Python gibi dinamik bir programlama dilinde, veri tipleri oldukça esnektir ve bu, dilin kullanımını kolaylaştırır.\n",
    "\n",
    "Bu makalede, Python programlama dilinin temel veri tiplerini detaylı bir şekilde inceleyeceğiz ve her bir veri tipinin nasıl kullanılacağını göstereceğiz. İlk adım olarak, bu veri tiplerinin neden önemli olduğunu ve programlamadaki rolünü anlamak için bir giriş yapalım."
   ]
  },
  {
   "cell_type": "markdown",
   "id": "2ff710db-2f92-4c32-83f6-54b85dbca5ed",
   "metadata": {
    "tags": []
   },
   "source": [
    "## Veri Tipleri"
   ]
  },
  {
   "cell_type": "markdown",
   "id": "549690ff-eb2d-4625-b54b-6afdb5d8cfaa",
   "metadata": {},
   "source": [
    "Python, \"dinamik olarak yazılmış\" bir programlama dilidir. Bu terim, Python'da bir değişkenin türünün (veri tipinin) açıkça belirtilmesi gerekmediği anlamına gelir. Diğer bir deyişle, bir değişken oluşturduğunuzda, Python otomatik olarak hangi tür verileri temsil edeceğini belirler. Örneğin, bir değişkene bir tam sayı atadığınızda, o değişken otomatik olarak bir tam sayı veri tipine sahip olur. Bu, kod yazarken daha az zorluk yaşamanıza ve daha hızlı geliştirme yapmanıza olanak tanır."
   ]
  },
  {
   "cell_type": "markdown",
   "id": "c0b79dd3-e131-4ff4-bc15-2131bcdbeb8e",
   "metadata": {},
   "source": [
    "### Sayılar (Numbers):\n",
    "\n",
    "- **int:** Tamsayıları temsil eder."
   ]
  },
  {
   "cell_type": "code",
   "execution_count": 27,
   "id": "b5b2cc11-d663-42c2-826f-47bdfb1404de",
   "metadata": {
    "tags": []
   },
   "outputs": [
    {
     "name": "stdout",
     "output_type": "stream",
     "text": [
      "<class 'int'>\n"
     ]
    }
   ],
   "source": [
    "age = 30\n",
    "population = 1000000\n",
    "print(type(age))"
   ]
  },
  {
   "cell_type": "markdown",
   "id": "8708b4d6-2bc1-414b-a4dd-dd5687fb237b",
   "metadata": {},
   "source": [
    "- **float:** Ondalık sayıları temsil eder."
   ]
  },
  {
   "cell_type": "code",
   "execution_count": 24,
   "id": "189e4224-1bb0-46e1-a15a-25c883138f7a",
   "metadata": {
    "tags": []
   },
   "outputs": [
    {
     "name": "stdout",
     "output_type": "stream",
     "text": [
      "<class 'float'>\n"
     ]
    }
   ],
   "source": [
    "pi = 3.14159\n",
    "temperature = 98.6\n",
    "print(type(pi))"
   ]
  },
  {
   "cell_type": "markdown",
   "id": "9c3c7b25-686d-4870-bb23-e19e4fa4c47f",
   "metadata": {
    "tags": []
   },
   "source": [
    "- **complex:** Karmaşık sayıları temsil eder."
   ]
  },
  {
   "cell_type": "code",
   "execution_count": 8,
   "id": "1d549616-a8ad-4a38-8805-3648d79d4fde",
   "metadata": {
    "tags": []
   },
   "outputs": [],
   "source": [
    "complex_number = 1 + 2j\n",
    "voltage = -5 + 3j"
   ]
  },
  {
   "cell_type": "markdown",
   "id": "d4cc4291-d0d1-4b97-ba0e-a93c83f1f0b0",
   "metadata": {
    "tags": []
   },
   "source": [
    "### Dize (String):"
   ]
  },
  {
   "cell_type": "markdown",
   "id": "5ab65884-cd1a-472b-97d0-39b4ae5cc5ac",
   "metadata": {},
   "source": [
    "- **str**: Metin verilerini temsil eder."
   ]
  },
  {
   "cell_type": "code",
   "execution_count": 12,
   "id": "53ada2d7-f7fb-4e07-a0e8-95ee5f21d29f",
   "metadata": {
    "tags": []
   },
   "outputs": [],
   "source": [
    "greeting = \"Merhaba, Dünya!\"\n",
    "name = \"Alice\""
   ]
  },
  {
   "cell_type": "markdown",
   "id": "d4ab39de-fe59-4884-852f-307dfc4042cc",
   "metadata": {},
   "source": [
    "### Dizi (List):"
   ]
  },
  {
   "cell_type": "markdown",
   "id": "faf15bdf-4c48-4824-b54a-85c3c721f7db",
   "metadata": {},
   "source": [
    "- **list:** Birden çok öğeyi sıralı bir şekilde saklar."
   ]
  },
  {
   "cell_type": "code",
   "execution_count": 13,
   "id": "bc5a345f-698b-40c8-bb19-526a85c04571",
   "metadata": {
    "tags": []
   },
   "outputs": [],
   "source": [
    "numbers = [1, 2, 3, 4, 5]\n",
    "fruits = [\"elma\", \"armut\", \"çilek\"]"
   ]
  },
  {
   "cell_type": "markdown",
   "id": "467f74f2-eb86-46f7-8c14-cc9cd8c4605b",
   "metadata": {},
   "source": [
    "### Demet (Tuple):"
   ]
  },
  {
   "cell_type": "markdown",
   "id": "b78d4ad2-a99a-46eb-8c9a-dcedc9331c6e",
   "metadata": {
    "tags": []
   },
   "source": [
    "- **tuple:** Liste gibi öğeleri saklar, ancak değiştirilemez (immutable) bir veri tipidir."
   ]
  },
  {
   "cell_type": "code",
   "execution_count": 15,
   "id": "19d010b1-c479-4240-8385-982ea72c8121",
   "metadata": {
    "tags": []
   },
   "outputs": [],
   "source": [
    "coordinates = (3, 4)\n",
    "colors = (\"kırmızı\", \"yeşil\", \"mavi\")"
   ]
  },
  {
   "cell_type": "markdown",
   "id": "860bd870-422f-41f8-94c2-b33e787984c4",
   "metadata": {},
   "source": [
    "### Küme (Set):"
   ]
  },
  {
   "cell_type": "markdown",
   "id": "1c3e7f5b-7c8e-406c-b95a-4836dc0911f2",
   "metadata": {},
   "source": [
    "- **set :** Benzersiz öğeleri saklar ve sırasızdır."
   ]
  },
  {
   "cell_type": "code",
   "execution_count": 16,
   "id": "29ee4378-6b18-4493-b9b1-5545960dcb4f",
   "metadata": {
    "tags": []
   },
   "outputs": [],
   "source": [
    "unique_numbers = {1, 2, 3, 4, 5}\n",
    "vowels = {\"a\", \"e\", \"i\", \"o\", \"u\"}"
   ]
  },
  {
   "cell_type": "markdown",
   "id": "7c1c2d16-5bf4-43f9-89a4-a3b3ec589074",
   "metadata": {},
   "source": [
    "### Sözlük (Dictionary):"
   ]
  },
  {
   "cell_type": "markdown",
   "id": "cf41751b-6fff-49e6-95cd-ceaceb45adce",
   "metadata": {},
   "source": [
    "- **dict:** Anahtar-değer çiftlerini saklar."
   ]
  },
  {
   "cell_type": "code",
   "execution_count": 17,
   "id": "2eba93de-28b6-43fb-a55f-75a39f0a31ba",
   "metadata": {
    "tags": []
   },
   "outputs": [],
   "source": [
    "person = {\"ad\": \"Alice\", \"yaş\": 25, \"meslek\": \"mühendis\"}"
   ]
  },
  {
   "cell_type": "markdown",
   "id": "15415c29-abec-4569-b9b1-fbae30065caa",
   "metadata": {},
   "source": [
    "### Mantıksal İfadeler (Boolean):"
   ]
  },
  {
   "cell_type": "markdown",
   "id": "028e9783-0c3f-4a7d-8486-9393a6991eff",
   "metadata": {
    "tags": []
   },
   "source": [
    "- **bool:** Doğru (True) veya Yanlış (False) değerlerini temsil eder, sıklıkla koşullu ifadelerde kullanılır."
   ]
  },
  {
   "cell_type": "code",
   "execution_count": 19,
   "id": "fe766260-2ce4-4e9c-acc6-29322d1878fa",
   "metadata": {
    "tags": []
   },
   "outputs": [],
   "source": [
    "is_sunny = True\n",
    "is_raining = False"
   ]
  },
  {
   "cell_type": "markdown",
   "id": "766bd0ed-3c39-47d4-9d58-40cb70d1e937",
   "metadata": {},
   "source": [
    "### None Type (NoneType):"
   ]
  },
  {
   "cell_type": "markdown",
   "id": "e6d75725-25b2-4867-a328-0fabd8013fdf",
   "metadata": {
    "tags": []
   },
   "source": [
    "- **None:** Herhangi bir değeri temsil etmeyen bir özel değerdir. Genellikle bir değişkenin başlangıç değeri olarak kullanılır."
   ]
  },
  {
   "cell_type": "code",
   "execution_count": 21,
   "id": "1f1d846d-f326-466d-96d3-afb566979928",
   "metadata": {
    "tags": []
   },
   "outputs": [],
   "source": [
    "empty_variable = None"
   ]
  },
  {
   "cell_type": "markdown",
   "id": "5443eb76-8966-407b-870e-0036284837b2",
   "metadata": {},
   "source": [
    "Bu veri tiplerini kullanarak, farklı türde verilerle çalışabilir ve Python programlarınızı daha işlevsel hale getirebilirsiniz."
   ]
  },
  {
   "cell_type": "markdown",
   "id": "b7fc292d-6d42-4cfb-bea6-637e44a1a448",
   "metadata": {
    "tags": []
   },
   "source": [
    "## Veri Tip Kontrolu"
   ]
  },
  {
   "cell_type": "markdown",
   "id": "b5a8a45d-2607-4401-ac41-9100157e5117",
   "metadata": {},
   "source": [
    "Python'da bir değişkenin veri tipini kontrol etmek için **type()** fonksiyonunu kullanabilirsiniz. **type()** fonksiyonu, bir nesnenin (değişkenin) veri tipini döndürür."
   ]
  },
  {
   "cell_type": "code",
   "execution_count": 28,
   "id": "412e4e87-b227-4d49-8a74-d49d03bdc245",
   "metadata": {
    "tags": []
   },
   "outputs": [
    {
     "name": "stdout",
     "output_type": "stream",
     "text": [
      "<class 'int'>\n"
     ]
    }
   ],
   "source": [
    "print(type(age))"
   ]
  },
  {
   "cell_type": "code",
   "execution_count": 29,
   "id": "0a83e625-8fd7-4ada-9265-93c7884fb6de",
   "metadata": {
    "tags": []
   },
   "outputs": [
    {
     "name": "stdout",
     "output_type": "stream",
     "text": [
      "<class 'float'>\n"
     ]
    }
   ],
   "source": [
    "print(type(pi))"
   ]
  },
  {
   "cell_type": "code",
   "execution_count": 30,
   "id": "3bfa3f3d-5f72-4e0c-a6e9-d1d953fd1f26",
   "metadata": {
    "tags": []
   },
   "outputs": [
    {
     "name": "stdout",
     "output_type": "stream",
     "text": [
      "<class 'tuple'>\n"
     ]
    }
   ],
   "source": [
    "print(type(coordinates))"
   ]
  },
  {
   "cell_type": "markdown",
   "id": "14c50042-1af4-48c3-b17c-5d0efe6e01a6",
   "metadata": {
    "tags": []
   },
   "source": [
    "### Veri Tipi Dönüşümü"
   ]
  },
  {
   "cell_type": "markdown",
   "id": "7ed50eb3-e307-48af-81a1-db97d233ff93",
   "metadata": {},
   "source": [
    "Python'da veri tiplerini dönüştürmek (veri tipi dönüşümü), bir veri tipini başka bir veri tipine çevirmek için kullanılır."
   ]
  },
  {
   "cell_type": "markdown",
   "id": "79ad7427-ce7e-4680-9986-959eca9f1b37",
   "metadata": {
    "tags": []
   },
   "source": [
    "- **int (Tam Sayı) Dönüşümü:**\n",
    "\n",
    "Metni bir string'e dönüştürmek için str() fonksiyonunu kullanabilirsiniz."
   ]
  },
  {
   "cell_type": "code",
   "execution_count": null,
   "id": "75077c52-8c3a-4adb-a692-2e4e0321c0f4",
   "metadata": {
    "tags": []
   },
   "outputs": [],
   "source": [
    "sayi = 5.7\n",
    "tam_sayi = int(sayi)\n",
    "print(tam_sayi)  # Çıktı: 5"
   ]
  },
  {
   "cell_type": "markdown",
   "id": "1b542188-fdd1-4d7c-a91c-a2fecf4f7e82",
   "metadata": {
    "tags": []
   },
   "source": [
    "- **float (Ondalık Sayı) Dönüşümü:**\n",
    "\n",
    "Metni bir string'e dönüştürmek için str() fonksiyonunu kullanabilirsiniz."
   ]
  },
  {
   "cell_type": "code",
   "execution_count": null,
   "id": "b98b24b4-a884-468f-9191-59f9fe655a9d",
   "metadata": {
    "tags": []
   },
   "outputs": [],
   "source": [
    "tam_sayi = 5\n",
    "ondalik_sayi = float(tam_sayi)\n",
    "print(ondalik_sayi)  # Çıktı: 5.0"
   ]
  },
  {
   "cell_type": "markdown",
   "id": "a1ea96b6-e6ee-40b1-9b7d-0af839949552",
   "metadata": {
    "tags": []
   },
   "source": [
    "- **str (String) Dönüşümü:** \n",
    "\n",
    "Metni bir string'e dönüştürmek için str() fonksiyonunu kullanabilirsiniz."
   ]
  },
  {
   "cell_type": "code",
   "execution_count": null,
   "id": "aaac8f5c-0aa1-49e6-b5b0-0e1c887ba874",
   "metadata": {
    "tags": []
   },
   "outputs": [],
   "source": [
    "sayi = 42\n",
    "metin = str(sayi)\n",
    "print(metin)  # Çıktı: \"42\""
   ]
  },
  {
   "cell_type": "markdown",
   "id": "297faa2a-ef9b-4bd2-8734-bd7a452e2f4d",
   "metadata": {},
   "source": [
    "- **list (Liste) Dönüşümü:**\n",
    "\n",
    "Bir diziyi liste veri tipine dönüştürmek için list() fonksiyonunu kullanabilirsiniz. "
   ]
  },
  {
   "cell_type": "code",
   "execution_count": null,
   "id": "a8769b4c-91a5-49bf-b28f-19a7c58baa40",
   "metadata": {
    "tags": []
   },
   "outputs": [],
   "source": [
    "demet = (1, 2, 3)\n",
    "liste = list(demet)\n",
    "print(liste)  # Çıktı: [1, 2, 3]"
   ]
  },
  {
   "cell_type": "markdown",
   "id": "d1fc712f-6c51-4e73-b4b5-d163e64e475b",
   "metadata": {},
   "source": [
    "- **tuple (Demet) Dönüşümü**\n",
    "\n",
    "Bir listeyi demet veri tipine dönüştürmek için tuple() fonksiyonunu kullanabilirsiniz. "
   ]
  },
  {
   "cell_type": "code",
   "execution_count": null,
   "id": "961123b2-c123-4f9a-b3e3-dd33d7f3c08d",
   "metadata": {},
   "outputs": [],
   "source": [
    "liste = [1, 2, 3]\n",
    "demet = tuple(liste)\n",
    "print(demet)  # Çıktı: (1, 2, 3)"
   ]
  },
  {
   "cell_type": "markdown",
   "id": "12b26958-97bb-4d78-8cfc-64a69d8bd897",
   "metadata": {
    "tags": []
   },
   "source": [
    "- **set (Küme) Dönüşümü:**\n",
    "\n",
    "Bir listeyi veya demeti küme veri tipine dönüştürmek için set() fonksiyonunu kullanabilirsiniz."
   ]
  },
  {
   "cell_type": "code",
   "execution_count": null,
   "id": "18d85f3e-a267-421c-b5c8-40a9db5a765f",
   "metadata": {},
   "outputs": [],
   "source": [
    "liste = [1, 2, 2, 3, 4]\n",
    "kume = set(liste)\n",
    "print(kume)  # Çıktı: {1, 2, 3, 4}"
   ]
  },
  {
   "cell_type": "markdown",
   "id": "6183dfc8-ca66-4013-b67a-2b41d31ca8b3",
   "metadata": {},
   "source": [
    "- **bool (Boolean) Dönüşümü:**\n",
    "\n",
    "Diğer veri tiplerini bool (doğru/yanlış) veri tipine dönüştürmek için bool() fonksiyonunu kullanabilirsiniz."
   ]
  },
  {
   "cell_type": "code",
   "execution_count": null,
   "id": "11549be5-37b4-4fd8-b7bf-7387326bb472",
   "metadata": {
    "tags": []
   },
   "outputs": [],
   "source": [
    "deger = 0  # 0, False olarak kabul edilir\n",
    "bool_deger = bool(deger)\n",
    "print(bool_deger)  # Çıktı: False"
   ]
  },
  {
   "cell_type": "markdown",
   "id": "6e5ead91-a600-49e9-9eed-d481817bddf1",
   "metadata": {
    "tags": []
   },
   "source": [
    "Dönüşüm işlemleri, programlarınızın gereksinimlerine göre verileri uygun veri tiplerine çevirmenize yardımcı olacaktır."
   ]
  }
 ],
 "metadata": {
  "kernelspec": {
   "display_name": "Python 3 (ipykernel)",
   "language": "python",
   "name": "python3"
  },
  "language_info": {
   "codemirror_mode": {
    "name": "ipython",
    "version": 3
   },
   "file_extension": ".py",
   "mimetype": "text/x-python",
   "name": "python",
   "nbconvert_exporter": "python",
   "pygments_lexer": "ipython3",
   "version": "3.11.4"
  }
 },
 "nbformat": 4,
 "nbformat_minor": 5
}
