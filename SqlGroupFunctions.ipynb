{
 "cells": [
  {
   "cell_type": "markdown",
   "id": "12309a40-f2ab-4db9-b875-7a8a4f29e715",
   "metadata": {},
   "source": [
    "# SQL GROUP Functions"
   ]
  },
  {
   "cell_type": "markdown",
   "id": "c6412f76-c2fd-46c6-8fe0-d2883293b576",
   "metadata": {},
   "source": [
    "Group functions are used to get aggregated summary information of a database with SQL queries. These functions generally perform operations such as collecting data in groups, counting, and averaging. The most commonly used group functions are:"
   ]
  },
  {
   "cell_type": "markdown",
   "id": "e9c65c56-3be9-4013-b8a2-c307bdad48bd",
   "metadata": {},
   "source": [
    "- **COUNT:** Returns the number of rows found in the result of a query.\n",
    "- **SUM:** Returns the sum of the numbers in a given column.\n",
    "- **AVG:** Returns the average of the numbers in a given column.\n",
    "- **MAX:** Returns the largest value in a given column.\n",
    "- **MIN:** Returns the smallest value in a given column."
   ]
  },
  {
   "cell_type": "markdown",
   "id": "f1498849-6744-4e57-8688-50a198413773",
   "metadata": {},
   "source": [
    "Group functions are often used with the \"GROUP BY\" statement. In this way, data is grouped according to a certain criterion or column and the values within the group are processed with these functions."
   ]
  },
  {
   "cell_type": "markdown",
   "id": "b470a87d-ad38-4b18-90c9-5593e776748f",
   "metadata": {},
   "source": [
    "## For Example"
   ]
  },
  {
   "cell_type": "code",
   "execution_count": null,
   "id": "b9f481cb-0800-4a6a-9eb9-b10911277270",
   "metadata": {},
   "outputs": [],
   "source": [
    "--\n",
    "-- `customers`\n",
    "--\n",
    "\n",
    "CREATE TABLE `customers` (\n",
    "  `customer_id` int(11) NOT NULL,\n",
    "  `customer_name` varchar(50) DEFAULT NULL,\n",
    "  `customer_email` varchar(100) DEFAULT NULL,\n",
    "  `customer_age` int(11) DEFAULT NULL\n",
    ") ENGINE=InnoDB DEFAULT CHARSET=utf8;\n",
    "\n",
    "INSERT INTO `customers` (`customer_id`, `customer_name`, `customer_email`, `customer_age`) VALUES\n",
    "(1, 'Alice', 'alice@example.com', 28),\n",
    "(2, 'Bob', 'bob@example.com', 32),\n",
    "(3, 'Charlie', 'charlie@example.com', 24),\n",
    "(4, 'David', 'david@example.com', 29),\n",
    "(5, 'Emily', 'emily@example.com', 26),\n",
    "(6, 'Frank', 'frank@example.com', 35),\n",
    "(7, 'Grace', 'grace@example.com', 31),\n",
    "(8, 'Helen', 'helen@example.com', 27),\n",
    "(9, 'Ivan', 'ivan@example.com', 30),\n",
    "(10, 'Jane', 'jane@example.com', 33),\n",
    "(11, 'Kevin', 'kevin@example.com', 22),\n",
    "(12, 'Laura', 'laura@example.com', 25),\n",
    "(13, 'Mike', 'mike@example.com', 36),\n",
    "(14, 'Nancy', 'nancy@example.com', 29),\n",
    "(15, 'Oscar', 'oscar@example.com', 34),\n",
    "(16, 'Pam', 'pam@example.com', 30),\n",
    "(17, 'Quinn', 'quinn@example.com', 28),\n",
    "(18, 'Roger', 'roger@example.com', 31),\n",
    "(19, 'Sarah', 'sarah@example.com', 27),\n",
    "(20, 'Tom', 'tom@example.com', 32);\n",
    "\n",
    "--\n",
    "-- `orders`\n",
    "--\n",
    "\n",
    "CREATE TABLE `orders` (\n",
    "  `order_id` int(11) NOT NULL,\n",
    "  `customer_id` int(11) DEFAULT NULL,\n",
    "  `product_id` int(11) DEFAULT NULL,\n",
    "  `order_date` date DEFAULT NULL,\n",
    "  `total_amount` decimal(10,2) DEFAULT NULL\n",
    ") ENGINE=InnoDB DEFAULT CHARSET=utf8;\n",
    "\n",
    "\n",
    "INSERT INTO `orders` (`order_id`, `customer_id`, `product_id`, `order_date`, `total_amount`) VALUES\n",
    "(1, 1, 1, '2023-01-15', '50.00'),\n",
    "(2, 2, 10, '2023-02-10', '75.25'),\n",
    "(3, 17, 2, '2023-03-05', '120.50'),\n",
    "(4, 4, 3, '2023-04-20', '45.75'),\n",
    "(5, 5, 2, '2023-05-12', '89.99'),\n",
    "(6, 7, 9, '2023-06-30', '150.00'),\n",
    "(7, 7, 6, '2023-07-22', '65.50'),\n",
    "(8, 8, 7, '2023-08-18', '30.25'),\n",
    "(9, 9, 9, '2023-09-01', '99.99'),\n",
    "(10, 10, 1, '2023-10-11', '110.75'),\n",
    "(11, 11, 3, '2023-11-25', '60.00'),\n",
    "(12, 12, 8, '2023-12-12', '72.40'),\n",
    "(13, 3, 10, '2024-01-08', '45.60'),\n",
    "(14, 14, 9, '2024-02-19', '85.75'),\n",
    "(15, 15, 5, '2024-03-03', '42.90'),\n",
    "(16, 5, 4, '2024-04-14', '105.25'),\n",
    "(17, 17, 3, '2024-05-29', '78.60'),\n",
    "(18, 18, 2, '2024-06-10', '63.40'),\n",
    "(19, 7, 4, '2024-07-17', '94.75'),\n",
    "(20, 20, 1, '2024-08-22', '120.00');\n",
    "\n",
    "--\n",
    "-- `products`\n",
    "--\n",
    "\n",
    "CREATE TABLE `products` (\n",
    "  `product_id` int(11) NOT NULL,\n",
    "  `product_name` varchar(50) DEFAULT NULL,\n",
    "  `unit_price` decimal(10,2) DEFAULT NULL,\n",
    "  `stock_quantity` int(11) DEFAULT NULL\n",
    ") ENGINE=InnoDB DEFAULT CHARSET=utf8;\n",
    "\n",
    "INSERT INTO `products` (`product_id`, `product_name`, `unit_price`, `stock_quantity`) VALUES\n",
    "(1, 'Laptop', '999.99', 25),\n",
    "(2, 'Smartphone', '499.99', 50),\n",
    "(3, 'Tablet', '299.99', 30),\n",
    "(4, 'Desktop PC', '799.99', 20),\n",
    "(5, 'Monitor', '199.99', 40),\n",
    "(6, 'Printer', '149.99', 15),\n",
    "(7, 'Headphones', '69.99', 60),\n",
    "(8, 'Keyboard', '29.99', 75),\n",
    "(9, 'Mouse', '14.99', 100),\n",
    "(10, 'External Hard Drive', '119.99', 35);"
   ]
  },
  {
   "cell_type": "markdown",
   "id": "d4988dd1-e6a5-44d7-a5e6-c031ed4b1c6a",
   "metadata": {},
   "source": [
    "## - COUNT\n",
    "\n",
    "Counting how many orders each customer has:"
   ]
  },
  {
   "cell_type": "code",
   "execution_count": null,
   "id": "55008940-b294-4c9f-8e90-e0ae88c4dc6c",
   "metadata": {},
   "outputs": [],
   "source": [
    "SELECT c.customer_id, c.customer_name, COUNT(o.order_id) AS order_count\n",
    "FROM customers c\n",
    "LEFT JOIN orders o ON c.customer_id = o.customer_id\n",
    "GROUP BY c.customer_id, c.customer_name;"
   ]
  },
  {
   "cell_type": "code",
   "execution_count": null,
   "id": "1daef1e6-4404-4f5b-aebd-0dc451af0454",
   "metadata": {},
   "outputs": [],
   "source": [
    "| customer_id| customer_name | order_count |\n",
    "|------------|---------------|-------------|\n",
    "| 1          | Alice         | 1           |\n",
    "| 2          | Bob           | 1           |\n",
    "| 3          | Charlie       | 1           |\n",
    "| 4          | David         | 1           |\n",
    "| 5          | Emily         | 2           |\n",
    "| 6          | Frank         | 0           |\n",
    "| 7          | Grace         | 3           |\n",
    "| 8          | Helen         | 1           |\n",
    "| 9          | Ivan          | 1           |\n",
    "| 10         | Jane          | 1           |\n",
    "| 11         | Kevin         | 1           |\n",
    "| 12         | Laura         | 1           |\n",
    "| 13         | Mike          | 0           |\n",
    "| 14         | Nancy         | 1           |\n",
    "| 15         | Oscar         | 1           |\n",
    "| 16         | Pam           | 0           |\n",
    "| 17         | Quinn         | 2           |\n",
    "| 18         | Roger         | 1           |\n",
    "| 19         | Sarah         | 0           |\n",
    "| 20         | Tom           | 1           |\n"
   ]
  },
  {
   "cell_type": "markdown",
   "id": "e5c622a7-3c2f-4f33-9760-65e16b35f3f3",
   "metadata": {},
   "source": [
    "## - SUM\n",
    "\n",
    "Totaling each customer's total order amount:"
   ]
  },
  {
   "cell_type": "code",
   "execution_count": null,
   "id": "5daac447-b50a-4d1e-a920-779a784438db",
   "metadata": {},
   "outputs": [],
   "source": [
    "SELECT c.customer_id, c.customer_name, SUM(o.total_amount) AS total_order_amount\n",
    "FROM customers c\n",
    "LEFT JOIN orders o ON c.customer_id = o.customer_id\n",
    "GROUP BY c.customer_id, c.customer_name;"
   ]
  },
  {
   "cell_type": "code",
   "execution_count": null,
   "id": "44347d9e-2810-4bfb-b19d-c170912105aa",
   "metadata": {},
   "outputs": [],
   "source": [
    "| customer_id | customer_name | total_order_amount |\n",
    "|-------------|---------------|--------------------|\n",
    "| 1           | Alice         | 50.00              |\n",
    "| 2           | Bob           | 75.25              |\n",
    "| 3           | Charlie       | 45.60              |\n",
    "| 4           | David         | 45.75              |\n",
    "| 5           | Emily         | 195.24             |\n",
    "| 6           | Frank         | NULL               |\n",
    "| 7           | Grace         | 310.25             |\n",
    "| 8           | Helen         | 30.25              |\n",
    "| 9           | Ivan          | 99.99              |\n",
    "| 10          | Jane          | 110.75             |\n",
    "| 11          | Kevin         | 60.00              |\n",
    "| 12          | Laura         | 72.40              |\n",
    "| 13          | Mike          | NULL               |\n",
    "| 14          | Nancy         | 85.75              |\n",
    "| 15          | Oscar         | 42.90              |\n",
    "| 16          | Pam           | NULL               |\n",
    "| 17          | Quinn         | 199.10             |\n",
    "| 18          | Roger         | 63.40              |\n",
    "| 19          | Sarah         | NULL               |\n",
    "| 20          | Tom           | 120.00             |\n"
   ]
  },
  {
   "cell_type": "markdown",
   "id": "ec118473-5406-47c9-9102-3acb5b38f37d",
   "metadata": {},
   "source": [
    "### - AVG\n",
    "\n",
    "Calculating each customer's average order amount:"
   ]
  },
  {
   "cell_type": "code",
   "execution_count": null,
   "id": "33728375-26fd-4dc7-a1e1-8fd604c07e8d",
   "metadata": {},
   "outputs": [],
   "source": [
    "SELECT c.customer_id, c.customer_name, AVG(o.total_amount) AS average_order_amount\n",
    "FROM customers c\n",
    "LEFT JOIN orders o ON c.customer_id = o.customer_id\n",
    "GROUP BY c.customer_id, c.customer_name;"
   ]
  },
  {
   "cell_type": "code",
   "execution_count": null,
   "id": "a85785bb-1e3d-4a88-b4f6-288cd4043d7e",
   "metadata": {},
   "outputs": [],
   "source": [
    "| customer_id | customer_name | average_order_amount |\n",
    "|-------------|---------------|-----------------------|\n",
    "| 1           | Alice         | 50.000000            |\n",
    "| 2           | Bob           | 75.250000            |\n",
    "| 3           | Charlie       | 45.600000            |\n",
    "| 4           | David         | 45.750000            |\n",
    "| 5           | Emily         | 97.620000            |\n",
    "| 6           | Frank         | NULL                 |\n",
    "| 7           | Grace         | 103.416667           |\n",
    "| 8           | Helen         | 30.250000            |\n",
    "| 9           | Ivan          | 99.990000            |\n",
    "| 10          | Jane          | 110.750000           |\n",
    "| 11          | Kevin         | 60.000000            |\n",
    "| 12          | Laura         | 72.400000            |\n",
    "| 13          | Mike          | NULL                 |\n",
    "| 14          | Nancy         | 85.750000            |\n",
    "| 15          | Oscar         | 42.900000            |\n",
    "| 16          | Pam           | NULL                 |\n",
    "| 17          | Quinn         | 99.550000            |\n",
    "| 18          | Roger         | 63.400000            |\n",
    "| 19          | Sarah         | NULL                 |\n",
    "| 20          | Tom           | 120.000000           |\n"
   ]
  },
  {
   "cell_type": "markdown",
   "id": "1f0fd019-4f38-41b0-b8ee-55e9660f343b",
   "metadata": {},
   "source": [
    "### - MAX\n",
    "\n",
    "Finding each customer's highest order amount:"
   ]
  },
  {
   "cell_type": "code",
   "execution_count": null,
   "id": "9d6ed593-aa0b-479f-9fe5-1ff42d07e119",
   "metadata": {},
   "outputs": [],
   "source": [
    "SELECT c.customer_id, c.customer_name, MAX(o.total_amount) AS max_order_amount\n",
    "FROM customers c\n",
    "LEFT JOIN orders o ON c.customer_id = o.customer_id\n",
    "GROUP BY c.customer_id, c.customer_name;"
   ]
  },
  {
   "cell_type": "code",
   "execution_count": null,
   "id": "551c149a-0f7d-4045-88a8-88987f2ceb37",
   "metadata": {},
   "outputs": [],
   "source": [
    "| customer_id | customer_name | max_order_amount |\n",
    "|-------------|---------------|------------------|\n",
    "| 1           | Alice         | 50.00            |\n",
    "| 2           | Bob           | 75.25            |\n",
    "| 3           | Charlie       | 45.60            |\n",
    "| 4           | David         | 45.75            |\n",
    "| 5           | Emily         | 105.25           |\n",
    "| 6           | Frank         | NULL             |\n",
    "| 7           | Grace         | 150.00           |\n",
    "| 8           | Helen         | 30.25            |\n",
    "| 9           | Ivan          | 99.99            |\n",
    "| 10          | Jane          | 110.75           |\n",
    "| 11          | Kevin         | 60.00            |\n",
    "| 12          | Laura         | 72.40            |\n",
    "| 13          | Mike          | NULL             |\n",
    "| 14          | Nancy         | 85.75            |\n",
    "| 15          | Oscar         | 42.90            |\n",
    "| 16          | Pam           | NULL             |\n",
    "| 17          | Quinn         | 120.50           |\n",
    "| 18          | Roger         | 63.40            |\n",
    "| 19          | Sarah         | NULL             |\n",
    "| 20          | Tom           | 120.00           |\n"
   ]
  },
  {
   "cell_type": "markdown",
   "id": "4fde4951-f708-4a1e-a000-f3b1802b57c3",
   "metadata": {},
   "source": [
    "### - MIN\n",
    "\n",
    "Finding each customer's minimum order amount:"
   ]
  },
  {
   "cell_type": "code",
   "execution_count": null,
   "id": "0dd37660-7685-41f4-b4b1-f099eab6d0f0",
   "metadata": {},
   "outputs": [],
   "source": [
    "SELECT c.customer_id, c.customer_name, MIN(o.total_amount) AS min_order_amount\n",
    "FROM customers c\n",
    "LEFT JOIN orders o ON c.customer_id = o.customer_id\n",
    "GROUP BY c.customer_id, c.customer_name;"
   ]
  },
  {
   "cell_type": "code",
   "execution_count": null,
   "id": "3eca2d55-9971-46c0-b596-5703b928b7fd",
   "metadata": {},
   "outputs": [],
   "source": [
    "| customer_id | customer_name | min_order_amount |\n",
    "|-------------|---------------|------------------|\n",
    "| 1           | Alice         | 50.00            |\n",
    "| 2           | Bob           | 75.25            |\n",
    "| 3           | Charlie       | 45.60            |\n",
    "| 4           | David         | 45.75            |\n",
    "| 5           | Emily         | 89.99            |\n",
    "| 6           | Frank         | NULL             |\n",
    "| 7           | Grace         | 65.50            |\n",
    "| 8           | Helen         | 30.25            |\n",
    "| 9           | Ivan          | 99.99            |\n",
    "| 10          | Jane          | 110.75           |\n",
    "| 11          | Kevin         | 60.00            |\n",
    "| 12          | Laura         | 72.40            |\n",
    "| 13          | Mike          | NULL             |\n",
    "| 14          | Nancy         | 85.75            |\n",
    "| 15          | Oscar         | 42.90            |\n",
    "| 16          | Pam           | NULL             |\n",
    "| 17          | Quinn         | 78.60            |\n",
    "| 18          | Roger         | 63.40            |\n",
    "| 19          | Sarah         | NULL             |\n",
    "| 20          | Tom           | 120.00           |"
   ]
  }
 ],
 "metadata": {
  "kernelspec": {
   "display_name": "Python 3 (ipykernel)",
   "language": "python",
   "name": "python3"
  },
  "language_info": {
   "codemirror_mode": {
    "name": "ipython",
    "version": 3
   },
   "file_extension": ".py",
   "mimetype": "text/x-python",
   "name": "python",
   "nbconvert_exporter": "python",
   "pygments_lexer": "ipython3",
   "version": "3.8.16"
  }
 },
 "nbformat": 4,
 "nbformat_minor": 5
}
