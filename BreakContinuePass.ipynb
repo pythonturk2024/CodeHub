{
 "cells": [
  {
   "cell_type": "markdown",
   "id": "d598e2a8-6240-40e8-90a0-d97c5c5c63e5",
   "metadata": {},
   "source": [
    "# Başlık: Python'da Kontrol İfadeleri: break, continue ve pass"
   ]
  },
  {
   "cell_type": "markdown",
   "id": "281f0eb2-5314-4373-a538-548aa086a8a8",
   "metadata": {
    "tags": []
   },
   "source": [
    "Programlama dillerinin hemen hemen hepsinde döngüler vardır. Python'da da iki tür döngü bulunur: \"for\" ve \"while\". Bu döngüler, belirli bir koşul karşılanana kadar belirli bir kod bloğunu birden çok kez çalıştırmanıza olanak tanır.\n",
    "\n",
    "Döngü kontrol ifadeleri ise kodun akışını değiştirir ve ihtiyacımıza göre döngüyü sonlandırır veya atlar. Bu makalede, Python'daki break, continue ve pass ifadelerini daha ayrıntılı bir şekilde ele alacağız ve nasıl kullanıldıklarını öğreneceğiz."
   ]
  },
  {
   "cell_type": "markdown",
   "id": "0da958ef-11f0-4e60-bab5-978adb808eb0",
   "metadata": {},
   "source": [
    "## Break:\n",
    "Python'daki break ifadesi, bir döngü içerisinde belirli bir koşul karşılandığında döngüyü aniden sonlandırarak döngünün normal işleyişini değiştirir. Yani, döngü, belirli bir şartın gerçekleştiği noktada hemen sona erer ve döngü sonrası kodların çalışmasına başlar."
   ]
  },
  {
   "cell_type": "markdown",
   "id": "fc683480-23ed-4097-a625-0fd4a1fdff6a",
   "metadata": {
    "tags": []
   },
   "source": [
    "### For Döngüsü ile Break İfadesi:"
   ]
  },
  {
   "cell_type": "code",
   "execution_count": 17,
   "id": "710aeec1-8477-4867-a9e0-266ff77a9057",
   "metadata": {},
   "outputs": [
    {
     "name": "stdout",
     "output_type": "stream",
     "text": [
      "Şu anki numara: 1\n",
      "Şu anki numara: 2\n",
      "Şu anki numara: 3\n",
      "Şu anki numara: 4\n",
      "Şu anki numara: 5\n",
      "6 bulundu, döngü sonlandırılıyor.\n",
      "Döngü sonlandı.\n"
     ]
    }
   ],
   "source": [
    "my_list = [1, 2, 3, 4, 5, 6, 7, 8, 9, 10]\n",
    "\n",
    "for num in my_list:\n",
    "    if num == 6:\n",
    "        print(\"6 bulundu, döngü sonlandırılıyor.\")\n",
    "        break\n",
    "    print(\"Şu anki numara:\", num)\n",
    "\n",
    "print(\"Döngü sonlandı.\")"
   ]
  },
  {
   "cell_type": "markdown",
   "id": "870a9d1a-4eb2-4f8c-ae02-04595182da36",
   "metadata": {},
   "source": [
    "Bu kod, my_list adlı bir liste içinde dolaşır. Eğer döngü içindeki num değeri 6'ya eşit olursa, break ifadesi çalışır ve döngü aniden sona erer. Aksi takdirde, her bir num değeri için döngü içindeki işlem gerçekleşir."
   ]
  },
  {
   "cell_type": "markdown",
   "id": "5dc475c2-7365-4a24-b9b8-ddc0cbb9cea4",
   "metadata": {},
   "source": [
    "### While Döngüsü ile Break İfadesi:"
   ]
  },
  {
   "cell_type": "code",
   "execution_count": 4,
   "id": "91900a09-9995-4983-8fbb-156ce3e27d5d",
   "metadata": {
    "tags": []
   },
   "outputs": [
    {
     "name": "stdout",
     "output_type": "stream",
     "text": [
      "Counter: 1\n",
      "Counter: 2\n",
      "Counter: 3\n",
      "Counter: 4\n",
      "Counter: 5\n",
      "Counter: 6\n",
      "Counter 7'ye ulaştı, döngü sonlandırılıyor.\n",
      "Döngü sonlandı.\n"
     ]
    }
   ],
   "source": [
    "counter = 1\n",
    "\n",
    "while counter <= 10:\n",
    "    if counter == 7:\n",
    "        print(\"Counter 7'ye ulaştı, döngü sonlandırılıyor.\")\n",
    "        break\n",
    "    print(\"Counter:\", counter)\n",
    "    counter += 1\n",
    "\n",
    "print(\"Döngü sonlandı.\")\n"
   ]
  },
  {
   "cell_type": "markdown",
   "id": "781d2cc3-b9bd-4e39-9a9e-cc37ed20a424",
   "metadata": {},
   "source": [
    "Bu kodda bir counter değişkeni kullanarak bir while döngüsü oluşturulmuştur. Eğer counter değeri 7'ye eşit olursa, break ifadesi çalışır ve döngü sona erer. Aksi takdirde, her bir yineleme için counter değeri artırılır ve döngü devam eder."
   ]
  },
  {
   "cell_type": "markdown",
   "id": "f23bc9fd-adf8-4a6f-95ae-535d162f706b",
   "metadata": {},
   "source": [
    "## Continue:\n",
    "\n",
    "Continue ifadesi, Python'daki bir döngü içerisinde kullanıldığında, sadece geçerli yineleme (iteration) için geri kalan kodu atlamak için kullanılır. Yani, belirli bir koşul karşılandığında, döngünün o yinelemesindeki işlemleri atlama yeteneği sağlar. Daha sonra döngü, bir sonraki yinelemeden başlayarak devam eder."
   ]
  },
  {
   "cell_type": "markdown",
   "id": "76217b12-5254-4f21-9e42-be4d2774321b",
   "metadata": {},
   "source": [
    "### For Döngüsü ile Continue İfadesi:"
   ]
  },
  {
   "cell_type": "code",
   "execution_count": 6,
   "id": "033c30e1-4003-40a4-b191-6671a2983276",
   "metadata": {
    "tags": []
   },
   "outputs": [
    {
     "name": "stdout",
     "output_type": "stream",
     "text": [
      "Şu anki numara: 1\n",
      "Şu anki numara: 3\n",
      "Şu anki numara: 5\n",
      "Şu anki numara: 7\n",
      "Şu anki numara: 9\n",
      "Döngü sonlandı.\n"
     ]
    }
   ],
   "source": [
    "my_list = [1, 2, 3, 4, 5, 6, 7, 8, 9, 10]\n",
    "\n",
    "for num in my_list:\n",
    "    if num % 2 == 0:\n",
    "        continue\n",
    "    print(\"Şu anki numara:\", num)\n",
    "\n",
    "print(\"Döngü sonlandı.\")"
   ]
  },
  {
   "cell_type": "markdown",
   "id": "21937364-87c3-4ae4-85a5-11c0381e5a82",
   "metadata": {},
   "source": [
    "Bu kod, my_list adlı bir liste içinde dolaşır. Eğer döngü içindeki num değeri çift bir sayı ise, continue ifadesi çalışır ve o yineleme atlanır. Yani, çift sayılar ekrana yazdırılmaz, sadece tek sayılar işlenir."
   ]
  },
  {
   "cell_type": "markdown",
   "id": "655a4f77-d0b1-4f3b-bfbe-7b07121aef2f",
   "metadata": {},
   "source": [
    "### While Döngüsü ile Continue İfadesi:"
   ]
  },
  {
   "cell_type": "code",
   "execution_count": 8,
   "id": "c9b18b23-e33d-45eb-a676-65f34a577522",
   "metadata": {
    "tags": []
   },
   "outputs": [
    {
     "name": "stdout",
     "output_type": "stream",
     "text": [
      "Counter: 1\n",
      "Counter: 2\n",
      "Counter: 4\n",
      "Counter: 5\n",
      "Counter: 7\n",
      "Counter: 8\n",
      "Counter: 10\n",
      "Döngü sonlandı.\n"
     ]
    }
   ],
   "source": [
    "counter = 1\n",
    "\n",
    "while counter <= 10:\n",
    "    if counter % 3 == 0:\n",
    "        counter += 1\n",
    "        continue\n",
    "    print(\"Counter:\", counter)\n",
    "    counter += 1\n",
    "\n",
    "print(\"Döngü sonlandı.\")"
   ]
  },
  {
   "cell_type": "markdown",
   "id": "6fee8138-3982-49bd-bfd6-44772e310466",
   "metadata": {},
   "source": [
    "Bu kodda bir counter değişkeni kullanarak bir while döngüsü oluşturulmuştur. Eğer counter değeri 3'e tam bölünürse, continue ifadesi çalışır, bu yineleme atlanır ve bir sonraki yinelemeye geçilir. Yani, 3'e tam bölünen sayılar ekrana yazdırılmaz, sadece bölen olmayan sayılar işlenir."
   ]
  },
  {
   "cell_type": "markdown",
   "id": "c0b93e44-0770-4c48-a95d-63ce61244bbd",
   "metadata": {},
   "source": [
    "## Pass:\n",
    "Pass ifadesi, Python programında bir ifade veya koşulun bulunması gerektiğinde, ancak herhangi bir komut veya kodun yürütülmesini istemediğimizde kullanılır. Genellikle gelecekteki kodlar için bir yer tutucu olarak kullanılır. Yani, geçici olarak bir kod bloğu oluşturur, ancak bu bloğun içinde herhangi bir işlem gerçekleşmez. Bu, programın yapısal bütünlüğünü korurken ilgilenmediğimiz veya daha sonra uygulayacağımız bölümleri işaretlememize olanak tanır."
   ]
  },
  {
   "cell_type": "markdown",
   "id": "40f49116-63a3-4e94-8b1b-6a041e52eed5",
   "metadata": {},
   "source": [
    "- **Gelecekteki İşlevler için Yer Tutucu:** "
   ]
  },
  {
   "cell_type": "markdown",
   "id": "d4c91afb-548f-43fb-94cb-19932ae19c67",
   "metadata": {},
   "source": [
    "Bir fonksiyon veya sınıf tanımlarken, içinde belirli bir kodun olması gerektiğini, ancak bu kodun henüz yazılmamış olduğu durumları işaretlemek için pass kullanabilirsiniz. Daha sonra bu kodu ekleyebilirsiniz."
   ]
  },
  {
   "cell_type": "code",
   "execution_count": 9,
   "id": "1438f2bc-ffd1-4d52-8177-668b6a6a023e",
   "metadata": {
    "tags": []
   },
   "outputs": [],
   "source": [
    "def gelecekte_eklenecek_fonksiyon():\n",
    "    pass"
   ]
  },
  {
   "cell_type": "markdown",
   "id": "4a9175c9-0d3a-4c4e-9113-1702289e2f8e",
   "metadata": {
    "tags": []
   },
   "source": [
    "- **Boş Döngüler:**"
   ]
  },
  {
   "cell_type": "markdown",
   "id": "021e6360-02f8-4a49-aad0-bdbb8f3b89b6",
   "metadata": {},
   "source": [
    "Döngülerde bazen belirli bir koşulu kontrol etmek istediğinizde, ancak döngü içinde herhangi bir işlem yapmak istemediğinizde pass kullanabilirsiniz."
   ]
  },
  {
   "cell_type": "code",
   "execution_count": null,
   "id": "8300db9e-4f17-4d97-85c7-739bddb620a7",
   "metadata": {
    "tags": []
   },
   "outputs": [],
   "source": [
    "while True:\n",
    "    if koşulu_kontrol_et():\n",
    "        pass\n",
    "    # Diğer işlemler"
   ]
  },
  {
   "cell_type": "markdown",
   "id": "128f014e-ed2f-4646-a3ce-eac8de9cf62b",
   "metadata": {},
   "source": [
    "- **Sınıf Tanımlamalarında:** "
   ]
  },
  {
   "cell_type": "markdown",
   "id": "a93a4ee7-cb5f-4e8a-b9e5-74e563e20d8a",
   "metadata": {},
   "source": [
    "Bir sınıf tanımlarken, sınıfın özelliklerini ve yöntemlerini daha sonra eklemeyi planlıyorsanız, pass kullanabilirsiniz."
   ]
  },
  {
   "cell_type": "code",
   "execution_count": 14,
   "id": "af637a48-bdac-47a2-9160-630e7a40d3c5",
   "metadata": {
    "tags": []
   },
   "outputs": [],
   "source": [
    "class GelecekteGeliştirilecekSinif:\n",
    "    pass"
   ]
  },
  {
   "cell_type": "markdown",
   "id": "934e39f2-fd93-4908-baf8-bed799398fed",
   "metadata": {},
   "source": [
    "- **Boş İfadelerde:**"
   ]
  },
  {
   "cell_type": "markdown",
   "id": "bb171fd6-07d8-40be-a7fe-205cacb69fa2",
   "metadata": {},
   "source": [
    "Bir if veya else bloğu içinde herhangi bir işlem yapmak istemediğinizde veya ileride doldurmayı düşündüğünüz bir kod parçasını işaretlemek istediğinizde pass kullanabilirsiniz."
   ]
  },
  {
   "cell_type": "code",
   "execution_count": null,
   "id": "4ac6b28c-13a4-4a56-9675-362fdd658c00",
   "metadata": {
    "tags": []
   },
   "outputs": [],
   "source": [
    "if condition:\n",
    "    pass\n",
    "else:\n",
    "    # İleride doldurulacak kod"
   ]
  },
  {
   "cell_type": "markdown",
   "id": "89e56768-20c8-4769-92ae-2e9e1edff9fb",
   "metadata": {
    "tags": []
   },
   "source": [
    "pass ifadesi, programınızın geçerliliğini korurken belirli durumları geçici olarak atlamak veya işaretlemek için kullanışlı bir araçtır."
   ]
  },
  {
   "cell_type": "markdown",
   "id": "559012c9-acba-4dd7-a780-b7adaa8fe748",
   "metadata": {},
   "source": [
    "## Summary"
   ]
  },
  {
   "cell_type": "markdown",
   "id": "6ec9c0db-e4de-4922-b127-338d2cab5576",
   "metadata": {},
   "source": [
    "continue, break, ve pass ifadeleri, Python programlarınızda döngüler ve koşullu ifadelerle daha iyi kontrol sağlayan önemli araçlardır. İşte bu konuyla ilgili bir özet:\n",
    "\n",
    "- **break ifadesi**, bir döngüyü aniden sonlandırmak için kullanılır. Belirli bir koşul karşılandığında döngüyü terk eder ve döngü sonlandırılır.\n",
    "- **continue ifadesi**, döngü içindeki mevcut yinelemeyi atlayarak bir sonraki yinelemeye geçmek için kullanılır. Yani, döngünün geri kalan kısmını çalıştırmadan döngü başına döner.\n",
    "- **pass ifadesi** ise bir kod bloğunun içinde herhangi bir işlem yapmadan geçmesini sağlar. Genellikle gelecekteki işlevler veya kodlar için yer tutucu olarak kullanılır.\n",
    "\n",
    "Bu ifadeleri doğru ve etkili bir şekilde kullanarak, programlarınızı istediğiniz şekilde kontrol edebilir ve istenmeyen durumları yönetebilirsiniz. İyi programlama uygulamalarıyla bu ifadeleri kullanmak, kodunuzu daha okunaklı ve bakımı kolay hale getirebilir."
   ]
  }
 ],
 "metadata": {
  "kernelspec": {
   "display_name": "Python 3 (ipykernel)",
   "language": "python",
   "name": "python3"
  },
  "language_info": {
   "codemirror_mode": {
    "name": "ipython",
    "version": 3
   },
   "file_extension": ".py",
   "mimetype": "text/x-python",
   "name": "python",
   "nbconvert_exporter": "python",
   "pygments_lexer": "ipython3",
   "version": "3.11.4"
  }
 },
 "nbformat": 4,
 "nbformat_minor": 5
}
