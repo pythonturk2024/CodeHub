{
 "cells": [
  {
   "cell_type": "markdown",
   "id": "d598e2a8-6240-40e8-90a0-d97c5c5c63e5",
   "metadata": {},
   "source": [
    "# Control Statements in Python: Break, Continue and Pass\n",
    "\n",
    "Almost all programming languages have loops. Python also has two types of loops: \"for\" and \"while\". These loops allow you to run a specific block of code multiple times until a certain condition is met.\n",
    "\n",
    "Loop control statements change the flow of the code and terminate or skip the loop according to our needs. In this article, we will discuss break, continue and pass statements in Python in more detail and learn how to use them."
   ]
  },
  {
   "cell_type": "markdown",
   "id": "0da958ef-11f0-4e60-bab5-978adb808eb0",
   "metadata": {},
   "source": [
    "## Break Statement\n",
    "\n",
    "The break statement in Python changes the normal operation of a loop by abruptly terminating it when a certain condition is met within a loop. That is, the loop ends immediately at the point where a certain condition is met and the post-loop codes start executing."
   ]
  },
  {
   "cell_type": "markdown",
   "id": "fc683480-23ed-4097-a625-0fd4a1fdff6a",
   "metadata": {
    "tags": []
   },
   "source": [
    "### - Break statement inside for-loop"
   ]
  },
  {
   "cell_type": "code",
   "execution_count": 25,
   "id": "710aeec1-8477-4867-a9e0-266ff77a9057",
   "metadata": {},
   "outputs": [
    {
     "name": "stdout",
     "output_type": "stream",
     "text": [
      "Current number: 1\n",
      "Current number: 2\n",
      "Current number: 3\n",
      "Current number: 4\n",
      "Current number: 5\n",
      "6 found, the loop is terminated.\n",
      "Out of loop\n"
     ]
    }
   ],
   "source": [
    "my_list = [1, 2, 3, 4, 5, 6, 7, 8, 9, 10]\n",
    "\n",
    "for num in my_list:\n",
    "    if num == 6:\n",
    "        print(\"6 found, the loop is terminated.\")\n",
    "        break\n",
    "    print(\"Current number:\", num)\n",
    "\n",
    "print('Out of loop')"
   ]
  },
  {
   "cell_type": "markdown",
   "id": "870a9d1a-4eb2-4f8c-ae02-04595182da36",
   "metadata": {},
   "source": [
    "This code loops through a list called my_list. If the num value inside the loop becomes equal to 6, the break statement executes and the loop ends abruptly. Otherwise, the operation within the loop occurs for each num value."
   ]
  },
  {
   "cell_type": "markdown",
   "id": "5dc475c2-7365-4a24-b9b8-ddc0cbb9cea4",
   "metadata": {},
   "source": [
    "### - Break statement inside while-loop"
   ]
  },
  {
   "cell_type": "code",
   "execution_count": 24,
   "id": "91900a09-9995-4983-8fbb-156ce3e27d5d",
   "metadata": {
    "tags": []
   },
   "outputs": [
    {
     "name": "stdout",
     "output_type": "stream",
     "text": [
      "Counter: 1\n",
      "Counter: 2\n",
      "Counter: 3\n",
      "Counter: 4\n",
      "Counter: 5\n",
      "Counter: 6\n",
      "Counter reached 7, terminating the loop.\n",
      "Out of loop\n"
     ]
    }
   ],
   "source": [
    "counter = 1\n",
    "\n",
    "while counter <= 10:\n",
    "    if counter == 7:\n",
    "        print(\"Counter reached 7, terminating the loop.\")\n",
    "        break\n",
    "    print(\"Counter:\", counter)\n",
    "    counter += 1\n",
    "\n",
    "print('Out of loop')"
   ]
  },
  {
   "cell_type": "markdown",
   "id": "781d2cc3-b9bd-4e39-9a9e-cc37ed20a424",
   "metadata": {},
   "source": [
    "In this code, a while loop is created using a counter variable. If the counter value is equal to 7, the break statement executes and the loop ends. Otherwise, the counter value is incremented for each iteration and the loop continues."
   ]
  },
  {
   "cell_type": "markdown",
   "id": "f23bc9fd-adf8-4a6f-95ae-535d162f706b",
   "metadata": {},
   "source": [
    "## Continue Statement\n",
    "\n",
    "When the continue statement is used within a loop in Python, it is used only to skip the remaining code for the current iteration. That is, it provides the ability to skip operations in that iteration of the loop when a certain condition is met. The cycle then continues, starting from the next iteration."
   ]
  },
  {
   "cell_type": "markdown",
   "id": "76217b12-5254-4f21-9e42-be4d2774321b",
   "metadata": {},
   "source": [
    "### Continue statement inside for-loop"
   ]
  },
  {
   "cell_type": "code",
   "execution_count": 23,
   "id": "033c30e1-4003-40a4-b191-6671a2983276",
   "metadata": {
    "tags": []
   },
   "outputs": [
    {
     "name": "stdout",
     "output_type": "stream",
     "text": [
      "Current number: 1\n",
      "Current number: 3\n",
      "Current number: 5\n",
      "Current number: 7\n",
      "Current number: 9\n",
      "Out of loop\n"
     ]
    }
   ],
   "source": [
    "my_list = [1, 2, 3, 4, 5, 6, 7, 8, 9, 10]\n",
    "\n",
    "for num in my_list:\n",
    "    if num % 2 == 0:\n",
    "        continue\n",
    "    print(\"Current number:\", num)\n",
    "\n",
    "print('Out of loop')"
   ]
  },
  {
   "cell_type": "markdown",
   "id": "21937364-87c3-4ae4-85a5-11c0381e5a82",
   "metadata": {},
   "source": [
    "This code loops through a list called my_list. If the num value in the loop is an even number, the continue statement executes and that iteration is skipped. That is, even numbers are not printed to the screen, only odd numbers are processed."
   ]
  },
  {
   "cell_type": "markdown",
   "id": "655a4f77-d0b1-4f3b-bfbe-7b07121aef2f",
   "metadata": {},
   "source": [
    "### Continue statement inside while-loop"
   ]
  },
  {
   "cell_type": "code",
   "execution_count": 22,
   "id": "c9b18b23-e33d-45eb-a676-65f34a577522",
   "metadata": {
    "tags": []
   },
   "outputs": [
    {
     "name": "stdout",
     "output_type": "stream",
     "text": [
      "Counter: 1\n",
      "Counter: 2\n",
      "Counter: 4\n",
      "Counter: 5\n",
      "Counter: 7\n",
      "Counter: 8\n",
      "Counter: 10\n",
      "Out of loop\n"
     ]
    }
   ],
   "source": [
    "counter = 1\n",
    "\n",
    "while counter <= 10:\n",
    "    if counter % 3 == 0:\n",
    "        counter += 1\n",
    "        continue\n",
    "    print(\"Counter:\", counter)\n",
    "    counter += 1\n",
    "\n",
    "print('Out of loop')"
   ]
  },
  {
   "cell_type": "markdown",
   "id": "6fee8138-3982-49bd-bfd6-44772e310466",
   "metadata": {},
   "source": [
    "In this code, a while loop is created using a counter variable. If the counter value is divisible by 3, the continue statement executes, skipping this iteration and moving on to the next iteration. That is, numbers that are divisible by 3 are not printed on the screen, only numbers that are not divisible are processed."
   ]
  },
  {
   "cell_type": "markdown",
   "id": "c0b93e44-0770-4c48-a95d-63ce61244bbd",
   "metadata": {},
   "source": [
    "## Pass Statement\n",
    "\n",
    "The pass statement is used when a statement or condition needs to be present in the Python program, but we do not want any command or code to be executed. It is often used as a placeholder for future code. That is, it temporarily creates a block of code, but no operations occur inside this block. This allows us to mark sections that we are not interested in or will implement later, while maintaining the structural integrity of the program."
   ]
  },
  {
   "cell_type": "markdown",
   "id": "40f49116-63a3-4e94-8b1b-6a041e52eed5",
   "metadata": {},
   "source": [
    "- **Placeholder for Future Functions:** "
   ]
  },
  {
   "cell_type": "markdown",
   "id": "d4c91afb-548f-43fb-94cb-19932ae19c67",
   "metadata": {},
   "source": [
    "When defining a function or class, you can use pass to mark cases where certain code should be in it, but that code has not yet been written. You can add this code later."
   ]
  },
  {
   "cell_type": "code",
   "execution_count": 13,
   "id": "1438f2bc-ffd1-4d52-8177-668b6a6a023e",
   "metadata": {
    "tags": []
   },
   "outputs": [],
   "source": [
    "def future_function_todo():  \n",
    "    # TODO: Implement this function in the future\n",
    "    pass"
   ]
  },
  {
   "cell_type": "markdown",
   "id": "4a9175c9-0d3a-4c4e-9113-1702289e2f8e",
   "metadata": {
    "tags": []
   },
   "source": [
    "- **Empty Loops:**"
   ]
  },
  {
   "cell_type": "markdown",
   "id": "021e6360-02f8-4a49-aad0-bdbb8f3b89b6",
   "metadata": {},
   "source": [
    "In loops, sometimes you can use pass when you want to check a certain condition but don't want to perform any action inside the loop."
   ]
  },
  {
   "cell_type": "code",
   "execution_count": null,
   "id": "ebfe702c-d709-49fa-8189-164a2b3fc034",
   "metadata": {
    "tags": []
   },
   "outputs": [],
   "source": [
    "while True:\n",
    "    if condition_check():\n",
    "        pass\n",
    "    # Other operations"
   ]
  },
  {
   "cell_type": "markdown",
   "id": "128f014e-ed2f-4646-a3ce-eac8de9cf62b",
   "metadata": {},
   "source": [
    "- **In Class Definitions:** "
   ]
  },
  {
   "cell_type": "markdown",
   "id": "a93a4ee7-cb5f-4e8a-b9e5-74e563e20d8a",
   "metadata": {},
   "source": [
    "When defining a class, you can use pass if you plan to add the properties and methods of the class later."
   ]
  },
  {
   "cell_type": "code",
   "execution_count": 16,
   "id": "af637a48-bdac-47a2-9160-630e7a40d3c5",
   "metadata": {
    "tags": []
   },
   "outputs": [],
   "source": [
    "class FutureClass:\n",
    "    pass"
   ]
  },
  {
   "cell_type": "markdown",
   "id": "934e39f2-fd93-4908-baf8-bed799398fed",
   "metadata": {},
   "source": [
    "- **In Empty Expressions:**"
   ]
  },
  {
   "cell_type": "markdown",
   "id": "bb171fd6-07d8-40be-a7fe-205cacb69fa2",
   "metadata": {},
   "source": [
    "You can use pass when you do not want to perform any action within an if or else block, or when you want to mark a piece of code that you intend to fill in in the future."
   ]
  },
  {
   "cell_type": "code",
   "execution_count": 30,
   "id": "8513efe5-7409-4eef-b5cd-00415af1847d",
   "metadata": {
    "tags": []
   },
   "outputs": [
    {
     "name": "stdout",
     "output_type": "stream",
     "text": [
      "Current value of i: 0\n",
      "Current value of i: 1\n",
      "Current value of i: 3\n",
      "Current value of i: 4\n"
     ]
    }
   ],
   "source": [
    "for i in range(5):\n",
    "    if i == 2:\n",
    "        pass  # Do nothing, just skip\n",
    "    else:\n",
    "        print(\"Current value of i:\", i)"
   ]
  },
  {
   "cell_type": "markdown",
   "id": "559012c9-acba-4dd7-a780-b7adaa8fe748",
   "metadata": {},
   "source": [
    "## Summary"
   ]
  },
  {
   "cell_type": "markdown",
   "id": "6ec9c0db-e4de-4922-b127-338d2cab5576",
   "metadata": {},
   "source": [
    "Continue, break, and pass statements are important tools that provide better control with loops and conditional statements in your Python programs. Here's a summary on this topic:\n",
    "\n",
    "- **break statement** is used to end a loop abruptly. When a certain condition is met, it exits the loop and the loop is terminated.\n",
    "- **continue statement** is used to skip the current iteration within the loop and move on to the next iteration. That is, it returns to the beginning of the loop without executing the rest of the loop.\n",
    "- **pass statement** allows passing through a code block without performing any action. It is often used as a placeholder for future functions or code.\n",
    "\n",
    "By using these statements correctly and effectively, you can control your programs the way you want and manage unwanted situations. Using these statements with good programming practices can make your code more readable and maintainable."
   ]
  }
 ],
 "metadata": {
  "kernelspec": {
   "display_name": "Python 3 (ipykernel)",
   "language": "python",
   "name": "python3"
  },
  "language_info": {
   "codemirror_mode": {
    "name": "ipython",
    "version": 3
   },
   "file_extension": ".py",
   "mimetype": "text/x-python",
   "name": "python",
   "nbconvert_exporter": "python",
   "pygments_lexer": "ipython3",
   "version": "3.8.16"
  }
 },
 "nbformat": 4,
 "nbformat_minor": 5
}
