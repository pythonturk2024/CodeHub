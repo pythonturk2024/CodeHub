{
 "cells": [
  {
   "cell_type": "markdown",
   "id": "419dc4f4-90e0-4fed-a79b-1b8735e2d2df",
   "metadata": {},
   "source": [
    " # Data Analysis and Statistical Calculations: Fundamental Concepts and Practical Applications"
   ]
  },
  {
   "cell_type": "markdown",
   "id": "97da8896-930c-442c-8735-1bcc21ef8edc",
   "metadata": {},
   "source": [
    "One of the basic tools used when analyzing data is statistical calculations. Statistical calculations are used to understand properties of data, recognize patterns, and interpret results.\n",
    "\n",
    "In this article, we will examine statistical calculations, one of the cornerstones of the data analysis process. You will learn how to perform basic statistical calculations as a data analyst using the Pandas library. You'll also learn how you can use these calculations to extract meaningful information from your data sets."
   ]
  },
  {
   "cell_type": "markdown",
   "id": "649c0883-1b30-4713-a2a1-3f4fe1d7a856",
   "metadata": {
    "tags": []
   },
   "source": [
    "## Data Analysis and Statistical Calculations"
   ]
  },
  {
   "cell_type": "markdown",
   "id": "9a5bd82e-92c0-47db-99f6-e10378261767",
   "metadata": {},
   "source": [
    "The basis of the data analysis process is understanding the statistical properties of the data set and interpreting the data using these properties. Here are the basic statistical calculations frequently used during data analysis:"
   ]
  },
  {
   "cell_type": "markdown",
   "id": "45b3de5c-8e34-47a1-93f8-00a4b3346223",
   "metadata": {},
   "source": [
    "#### 1.describe()\n",
    "#### 2.mean():\n",
    "#### 3.median()\n",
    "#### 4.mode()\n",
    "#### 5.sum()\n",
    "#### 6.min()\n",
    "#### 7.max()\n",
    "#### 8.std()\n",
    "#### 10.var()\n",
    "#### 11.count()\n",
    "#### 12.quantile()\n",
    "#### 13.corr()"
   ]
  },
  {
   "cell_type": "markdown",
   "id": "5d379c16-8c44-4ad0-ad49-6f8523f2fdbd",
   "metadata": {},
   "source": [
    "## For Example\n",
    "\n",
    "Below is an example showing how to use the statistical calculations listed above."
   ]
  },
  {
   "cell_type": "code",
   "execution_count": 107,
   "id": "89bbf922-88e7-4295-9877-3bec085a76be",
   "metadata": {
    "tags": []
   },
   "outputs": [
    {
     "name": "stdout",
     "output_type": "stream",
     "text": [
      "   Student       Course  Grade  StudyHours\n",
      "0     John  Mathematics     90          10\n",
      "1     Jane      Physics     85          12\n",
      "2  Michael    Chemistry     95          15\n",
      "3    David  Mathematics     75           9\n",
      "4   Evelyn      Physics     80           8\n"
     ]
    }
   ],
   "source": [
    "\n",
    "import pandas as pd\n",
    "\n",
    "# Creating a sample data frame\n",
    "data = {\n",
    "    'Student': ['John', 'Jane', 'Michael', 'David', 'Evelyn', 'Mustafa', 'Emily', 'John', 'Denise', 'Grace',\n",
    "                'Ibrahim', 'Eliza', 'Bruce', 'Fatima', 'Emir', 'Catherine', 'Rose', 'Kadir', 'Irene', 'Oscar'],\n",
    "    'Course': ['Mathematics', 'Physics', 'Chemistry', 'Mathematics', 'Physics', 'Chemistry', 'Mathematics', 'Physics', 'Chemistry',\n",
    "               'Mathematics', 'Physics', 'Chemistry', 'Mathematics', 'Physics', 'Chemistry', 'Mathematics', 'Physics', 'Chemistry',\n",
    "               'Mathematics', 'Physics'],\n",
    "    'Grade': [90, 85, 95, 75, 80, 92, 87, 88, 93, 82, 79, 91, 86, 89, 78, 83, 94, 81, 84, 90],\n",
    "    'StudyHours': [10, 12, 15, 9, 8, 16, 14, 11, 17, 9, 10, 13, 12, 15, 8, 11, 14, 9, 10, 16]\n",
    "}\n",
    "\n",
    "df = pd.DataFrame(data)\n",
    "\n",
    "# Displaying the first 5 rows of the data frame\n",
    "print(df.head())\n"
   ]
  },
  {
   "cell_type": "markdown",
   "id": "0b09405d-1beb-4da7-a0be-39e7fc021a00",
   "metadata": {
    "tags": []
   },
   "source": [
    "## 1. describe() :\n",
    "\n",
    "This function shows basic statistical values ​​(count, mean, std, min, max, etc.) and distribution for numerical columns of the data set."
   ]
  },
  {
   "cell_type": "code",
   "execution_count": 106,
   "id": "69bdf0fd-9146-455b-9b68-244e4f391fe3",
   "metadata": {
    "tags": []
   },
   "outputs": [
    {
     "data": {
      "text/html": [
       "<div>\n",
       "<style scoped>\n",
       "    .dataframe tbody tr th:only-of-type {\n",
       "        vertical-align: middle;\n",
       "    }\n",
       "\n",
       "    .dataframe tbody tr th {\n",
       "        vertical-align: top;\n",
       "    }\n",
       "\n",
       "    .dataframe thead th {\n",
       "        text-align: right;\n",
       "    }\n",
       "</style>\n",
       "<table border=\"1\" class=\"dataframe\">\n",
       "  <thead>\n",
       "    <tr style=\"text-align: right;\">\n",
       "      <th></th>\n",
       "      <th>Grade</th>\n",
       "      <th>StudyHours</th>\n",
       "    </tr>\n",
       "  </thead>\n",
       "  <tbody>\n",
       "    <tr>\n",
       "      <th>count</th>\n",
       "      <td>20.000000</td>\n",
       "      <td>20.000000</td>\n",
       "    </tr>\n",
       "    <tr>\n",
       "      <th>mean</th>\n",
       "      <td>86.100000</td>\n",
       "      <td>11.950000</td>\n",
       "    </tr>\n",
       "    <tr>\n",
       "      <th>std</th>\n",
       "      <td>5.739063</td>\n",
       "      <td>2.874113</td>\n",
       "    </tr>\n",
       "    <tr>\n",
       "      <th>min</th>\n",
       "      <td>75.000000</td>\n",
       "      <td>8.000000</td>\n",
       "    </tr>\n",
       "    <tr>\n",
       "      <th>25%</th>\n",
       "      <td>81.750000</td>\n",
       "      <td>9.750000</td>\n",
       "    </tr>\n",
       "    <tr>\n",
       "      <th>50%</th>\n",
       "      <td>86.500000</td>\n",
       "      <td>11.500000</td>\n",
       "    </tr>\n",
       "    <tr>\n",
       "      <th>75%</th>\n",
       "      <td>90.250000</td>\n",
       "      <td>14.250000</td>\n",
       "    </tr>\n",
       "    <tr>\n",
       "      <th>max</th>\n",
       "      <td>95.000000</td>\n",
       "      <td>17.000000</td>\n",
       "    </tr>\n",
       "  </tbody>\n",
       "</table>\n",
       "</div>"
      ],
      "text/plain": [
       "           Grade  StudyHours\n",
       "count  20.000000   20.000000\n",
       "mean   86.100000   11.950000\n",
       "std     5.739063    2.874113\n",
       "min    75.000000    8.000000\n",
       "25%    81.750000    9.750000\n",
       "50%    86.500000   11.500000\n",
       "75%    90.250000   14.250000\n",
       "max    95.000000   17.000000"
      ]
     },
     "execution_count": 106,
     "metadata": {},
     "output_type": "execute_result"
    }
   ],
   "source": [
    "summary = df.describe()\n",
    "summary"
   ]
  },
  {
   "cell_type": "markdown",
   "id": "69d45ff3-161b-44be-8339-83b17f5b7e04",
   "metadata": {
    "tags": []
   },
   "source": [
    "## 2. mean():\n",
    "\n",
    "Calculates the average of numeric values in a column."
   ]
  },
  {
   "cell_type": "code",
   "execution_count": 104,
   "id": "00c66bb1-a977-467a-880d-396da9189a43",
   "metadata": {
    "tags": []
   },
   "outputs": [
    {
     "name": "stdout",
     "output_type": "stream",
     "text": [
      "Average of numerical values in the column: 86.1\n"
     ]
    }
   ],
   "source": [
    "# Average of grade column\n",
    "mean = df['Grade'].mean()\n",
    "print(f\"Average of numerical values in the column: {mean}\")"
   ]
  },
  {
   "cell_type": "markdown",
   "id": "a680bdaa-a16d-4496-b102-6c64aee8c7f0",
   "metadata": {},
   "source": [
    "## 3.median():\n",
    "\n",
    "Calculates the median value of numeric values in a column."
   ]
  },
  {
   "cell_type": "code",
   "execution_count": 105,
   "id": "752c3070-7b00-41c9-8b74-2c649696d019",
   "metadata": {
    "tags": []
   },
   "outputs": [
    {
     "name": "stdout",
     "output_type": "stream",
     "text": [
      "Median of numeric values in a column: 86.5\n"
     ]
    }
   ],
   "source": [
    "# Median of grade column\n",
    "median = df['Grade'].median()\n",
    "print(f\"Median of numeric values in a column: {median}\")"
   ]
  },
  {
   "cell_type": "markdown",
   "id": "0a6ed109-5dca-4f43-9757-5e5c1cf645f4",
   "metadata": {},
   "source": [
    "## 4.mode():\n",
    "\n",
    "Calculates the mode (most frequent value) of numeric values in a column."
   ]
  },
  {
   "cell_type": "code",
   "execution_count": 101,
   "id": "3567c0cb-5a3e-4d4a-97c3-fdba351df816",
   "metadata": {
    "tags": []
   },
   "outputs": [
    {
     "name": "stdout",
     "output_type": "stream",
     "text": [
      "Mode of numeric values in column: 90\n"
     ]
    }
   ],
   "source": [
    "# Mode of Grade column\n",
    "mode = df['Grade'].mode()\n",
    "print(f\"Mode of numeric values in column: {mode.values[0]}\")"
   ]
  },
  {
   "cell_type": "code",
   "execution_count": 102,
   "id": "0ba50fd9-6087-449d-b87b-aed7e16340c6",
   "metadata": {
    "tags": []
   },
   "outputs": [
    {
     "name": "stdout",
     "output_type": "stream",
     "text": [
      "90    2\n",
      "79    1\n",
      "81    1\n",
      "94    1\n",
      "83    1\n",
      "78    1\n",
      "89    1\n",
      "86    1\n",
      "91    1\n",
      "82    1\n",
      "85    1\n",
      "93    1\n",
      "88    1\n",
      "87    1\n",
      "92    1\n",
      "80    1\n",
      "75    1\n",
      "95    1\n",
      "84    1\n",
      "Name: Grade, dtype: int64\n"
     ]
    }
   ],
   "source": [
    "grade_counts = df['Grade'].value_counts()\n",
    "print(grade_counts)"
   ]
  },
  {
   "cell_type": "markdown",
   "id": "32de4dfb-0da5-46df-a44c-8e94a1d66d53",
   "metadata": {},
   "source": [
    "## 5.sum():\n",
    "\n",
    "Calculates the sum of numeric values in a column."
   ]
  },
  {
   "cell_type": "code",
   "execution_count": 100,
   "id": "961b2af8-b6f3-4e2f-8845-f72de1e3ab70",
   "metadata": {
    "tags": []
   },
   "outputs": [
    {
     "name": "stdout",
     "output_type": "stream",
     "text": [
      "Sum of numeric values in the column: 1722\n"
     ]
    }
   ],
   "source": [
    "# Total of grade column\n",
    "total = df['Grade'].sum()\n",
    "print(f\"Sum of numeric values in the column: {total}\")"
   ]
  },
  {
   "cell_type": "markdown",
   "id": "863db6df-641f-45ee-84ba-c83ed3485319",
   "metadata": {},
   "source": [
    "## 6.min():\n",
    "\n",
    "Finds the smallest numerical value in a column."
   ]
  },
  {
   "cell_type": "code",
   "execution_count": 99,
   "id": "73d17deb-4591-41f3-a521-d62179ae4794",
   "metadata": {
    "tags": []
   },
   "outputs": [
    {
     "name": "stdout",
     "output_type": "stream",
     "text": [
      "The smallest of the numeric values ​​in the column: 75\n"
     ]
    }
   ],
   "source": [
    "# Minimum value of grade column\n",
    "min_value = df['Grade'].min()\n",
    "print(f\"The smallest of the numeric values ​​in the column: {min_value}\")"
   ]
  },
  {
   "cell_type": "markdown",
   "id": "9b2adb77-f0ce-4f55-a06b-106fd1ae760c",
   "metadata": {},
   "source": [
    "## 7.max():\n",
    "\n",
    "Finds the largest numerical value in a column."
   ]
  },
  {
   "cell_type": "code",
   "execution_count": 98,
   "id": "98f02526-a0c4-43df-9f43-36fe4b92caee",
   "metadata": {
    "tags": []
   },
   "outputs": [
    {
     "name": "stdout",
     "output_type": "stream",
     "text": [
      "The largest of the numerical values in the column: 95\n"
     ]
    }
   ],
   "source": [
    "# Maximum value of grade column\n",
    "max_value = df['Grade'].max()\n",
    "print(f\"The largest of the numerical values in the column: {max_value}\")"
   ]
  },
  {
   "cell_type": "markdown",
   "id": "e9aebc0c-db5b-4777-92c6-275ba404e3fd",
   "metadata": {},
   "source": [
    "## 8.std():\n",
    "\n",
    "Calculates the standard deviation of numeric values in a column."
   ]
  },
  {
   "cell_type": "code",
   "execution_count": 97,
   "id": "72ff7853-4b08-4750-bd48-fb1148b0d609",
   "metadata": {
    "tags": []
   },
   "outputs": [
    {
     "name": "stdout",
     "output_type": "stream",
     "text": [
      "Standard deviation of numerical values in the column: 5.739062824648564\n"
     ]
    }
   ],
   "source": [
    "# Standard deviation of grade column\n",
    "std = df['Grade'].std()\n",
    "print(f\"Standard deviation of numerical values in the column: {std}\")"
   ]
  },
  {
   "cell_type": "markdown",
   "id": "5066259b-7d01-4820-8df9-e22937aa2f86",
   "metadata": {},
   "source": [
    "## 10.var():\n",
    "\n",
    "Calculates the variance of numeric values in a column."
   ]
  },
  {
   "cell_type": "code",
   "execution_count": 96,
   "id": "2252828d-c268-4231-8374-6540c44a8838",
   "metadata": {
    "tags": []
   },
   "outputs": [
    {
     "name": "stdout",
     "output_type": "stream",
     "text": [
      "Variance of numeric values in column: 32.93684210526315\n"
     ]
    }
   ],
   "source": [
    "# Variance of grade column\n",
    "var = df['Grade'].var()\n",
    "print(f\"Variance of numeric values in column: {var}\")"
   ]
  },
  {
   "cell_type": "markdown",
   "id": "6b5de766-990b-4c41-9e9c-e494fef7574b",
   "metadata": {},
   "source": [
    "## 11.count():\n",
    "\n",
    "Calculates the total number of records in a column."
   ]
  },
  {
   "cell_type": "code",
   "execution_count": 95,
   "id": "3d598be2-03aa-4749-b117-4f0ff69dbfc4",
   "metadata": {
    "tags": []
   },
   "outputs": [
    {
     "name": "stdout",
     "output_type": "stream",
     "text": [
      "Total number in column: 20\n"
     ]
    }
   ],
   "source": [
    "# Total number of values in the grade column\n",
    "count = df['Grade'].count()\n",
    "print(f\"Total number in column: {count}\")"
   ]
  },
  {
   "cell_type": "markdown",
   "id": "624fbe83-af76-4ec4-8eea-14a2f5fb7d3f",
   "metadata": {},
   "source": [
    "## 12.quantile():\n",
    "\n",
    "Calculates specific percentiles of numeric values in a column."
   ]
  },
  {
   "cell_type": "code",
   "execution_count": 93,
   "id": "bef207f9-3fda-4a78-925a-18a93308404e",
   "metadata": {
    "tags": []
   },
   "outputs": [
    {
     "name": "stdout",
     "output_type": "stream",
     "text": [
      "Percentiles:\n",
      "0.25    81.75\n",
      "0.50    86.50\n",
      "0.75    90.25\n",
      "Name: Grade, dtype: float64\n"
     ]
    }
   ],
   "source": [
    "# Specific percentiles of numerical values in the grade column\n",
    "quantiles = df['Grade'].quantile([0.25, 0.50, 0.75])\n",
    "print(\"Percentiles:\")\n",
    "print(quantiles)"
   ]
  },
  {
   "cell_type": "markdown",
   "id": "4cb23b1d-b37d-4a12-bc3f-69ac450c22c2",
   "metadata": {},
   "source": [
    "## 13.corr():\n",
    "\n",
    "Calculates the correlation matrix between columns."
   ]
  },
  {
   "cell_type": "code",
   "execution_count": 94,
   "id": "b6985ad2-e0c9-4335-8dd5-aa775c1b0f28",
   "metadata": {
    "tags": []
   },
   "outputs": [
    {
     "name": "stdout",
     "output_type": "stream",
     "text": [
      "Correlation (Grade and StudyHours): 0.83312167291602\n"
     ]
    }
   ],
   "source": [
    "# Calculate correlation between Grade and StudyHours\n",
    "correlation = df['Grade'].corr(df['StudyHours'])\n",
    "print(f\"Correlation (Grade and StudyHours): {correlation}\")"
   ]
  }
 ],
 "metadata": {
  "kernelspec": {
   "display_name": "Python 3 (ipykernel)",
   "language": "python",
   "name": "python3"
  },
  "language_info": {
   "codemirror_mode": {
    "name": "ipython",
    "version": 3
   },
   "file_extension": ".py",
   "mimetype": "text/x-python",
   "name": "python",
   "nbconvert_exporter": "python",
   "pygments_lexer": "ipython3",
   "version": "3.8.16"
  }
 },
 "nbformat": 4,
 "nbformat_minor": 5
}
