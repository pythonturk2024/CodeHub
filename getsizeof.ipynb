{
 "cells": [
  {
   "cell_type": "markdown",
   "id": "6e2ddce1-66d7-4593-82bc-5d9d9cb64b97",
   "metadata": {},
   "source": [
    "# sys.getsizeof() Function"
   ]
  },
  {
   "cell_type": "markdown",
   "id": "ec2d47fd-b2ff-4b45-98dd-37a1d1efc8bc",
   "metadata": {},
   "source": [
    "In Python, the sys.getsizeof() function is used to measure the space occupied by an object in memory in bytes. This function helps you control and optimize your code's memory usage, so you can write more efficient programs. It is especially important in big data processing applications."
   ]
  },
  {
   "cell_type": "code",
   "execution_count": 2,
   "id": "28462dcc-b3ae-495a-9844-9a6f259e87c2",
   "metadata": {
    "tags": []
   },
   "outputs": [
    {
     "name": "stdout",
     "output_type": "stream",
     "text": [
      "Size of integer_variable: 28 bytes\n",
      "Size of my_list: 104 bytes\n",
      "Size of my_dictionary: 184 bytes\n",
      "Size of my_string: 62 bytes\n"
     ]
    }
   ],
   "source": [
    "import sys\n",
    "\n",
    "# An integer example\n",
    "integer_variable = 42\n",
    "integer_size = sys.getsizeof(integer_variable)\n",
    "print(f\"Size of integer_variable: {integer_size} bytes\")\n",
    "\n",
    "# A list example\n",
    "my_list = [1, 2, 3, 4, 5]\n",
    "list_size = sys.getsizeof(my_list)\n",
    "print(f\"Size of my_list: {list_size} bytes\")\n",
    "\n",
    "# A dictionary example\n",
    "my_dictionary = {'a': 1, 'b': 2, 'c': 3}\n",
    "dictionary_size = sys.getsizeof(my_dictionary)\n",
    "print(f\"Size of my_dictionary: {dictionary_size} bytes\")\n",
    "\n",
    "# A string example\n",
    "my_string = \"Hello, world!\"\n",
    "string_size = sys.getsizeof(my_string)\n",
    "print(f\"Size of my_string: {string_size} bytes\")\n"
   ]
  }
 ],
 "metadata": {
  "kernelspec": {
   "display_name": "Python 3 (ipykernel)",
   "language": "python",
   "name": "python3"
  },
  "language_info": {
   "codemirror_mode": {
    "name": "ipython",
    "version": 3
   },
   "file_extension": ".py",
   "mimetype": "text/x-python",
   "name": "python",
   "nbconvert_exporter": "python",
   "pygments_lexer": "ipython3",
   "version": "3.11.4"
  }
 },
 "nbformat": 4,
 "nbformat_minor": 5
}
